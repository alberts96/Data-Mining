{
 "cells": [
  {
   "cell_type": "code",
   "execution_count": null,
   "metadata": {},
   "outputs": [],
   "source": [
    "%matplotlib inline\n",
    "\n",
    "import numpy as np\n",
    "import pandas as pd\n",
    "import matplotlib.pyplot as plt\n",
    "\n",
    "\n",
    "\n",
    "from collections import defaultdict\n",
    "from sklearn.decomposition import PCA"
   ]
  },
  {
   "cell_type": "markdown",
   "metadata": {},
   "source": [
    "# Data Preparation"
   ]
  },
  {
   "cell_type": "code",
   "execution_count": 318,
   "metadata": {},
   "outputs": [],
   "source": [
    "y_name = 'Occupancy'\n",
    "df = pd.read_csv(r'../data/training.csv')\n",
    "\n",
    "test = pd.read_csv(r'../data/test.csv')\n"
   ]
  },
  {
   "cell_type": "code",
   "execution_count": 319,
   "metadata": {},
   "outputs": [],
   "source": [
    "df['date'] =  pd.to_datetime(df['date'], format='%Y-%m-%d %H:%M:%S')\n",
    "df['Time']= df['date'].apply(lambda x:x.time())\n",
    "df['Date']= df['date'].apply(lambda x:x.date())\n",
    "df['Time'] =  pd.to_timedelta(str(x) for x in df['Time'])\n",
    "df['Date'] =  pd.to_datetime(df['Date'], format='%Y-%m-%d')\n",
    "df.drop('date', axis=1, inplace=True)\n",
    "\n",
    "df.drop('HumidityRatio',inplace=True,axis=1)\n",
    "df=df[df['Light']<1000]\n"
   ]
  },
  {
   "cell_type": "code",
   "execution_count": 320,
   "metadata": {},
   "outputs": [],
   "source": [
    "test['date'] =  pd.to_datetime(test['date'], format='%Y-%m-%d %H:%M:%S')\n",
    "test['Time']= test['date'].apply(lambda x:x.time())\n",
    "test['Date']= test['date'].apply(lambda x:x.date())\n",
    "test['Time'] =  pd.to_timedelta(str(x) for x in test['Time'])\n",
    "test['Date'] =  pd.to_datetime(test['Date'], format='%Y-%m-%d')\n",
    "test.drop('date', axis=1, inplace=True)\n",
    "\n",
    "test.drop('HumidityRatio',inplace=True,axis=1)\n"
   ]
  },
  {
   "cell_type": "code",
   "execution_count": 321,
   "metadata": {},
   "outputs": [],
   "source": [
    "df['Holidays'] = df['Date'].apply(lambda x: 0 if x.weekday()<5 else 1 )\n",
    "test['Holidays'] = test['Date'].apply(lambda x: 0 if x.weekday()<5 else 1 )"
   ]
  },
  {
   "cell_type": "code",
   "execution_count": 322,
   "metadata": {},
   "outputs": [],
   "source": [
    "from sklearn.model_selection import train_test_split, cross_val_score \n",
    "\n",
    "from sklearn.metrics import r2_score, mean_squared_error, mean_absolute_error"
   ]
  },
  {
   "cell_type": "code",
   "execution_count": 323,
   "metadata": {},
   "outputs": [
    {
     "data": {
      "text/html": [
       "<div>\n",
       "<style scoped>\n",
       "    .dataframe tbody tr th:only-of-type {\n",
       "        vertical-align: middle;\n",
       "    }\n",
       "\n",
       "    .dataframe tbody tr th {\n",
       "        vertical-align: top;\n",
       "    }\n",
       "\n",
       "    .dataframe thead th {\n",
       "        text-align: right;\n",
       "    }\n",
       "</style>\n",
       "<table border=\"1\" class=\"dataframe\">\n",
       "  <thead>\n",
       "    <tr style=\"text-align: right;\">\n",
       "      <th></th>\n",
       "      <th>Unnamed: 0</th>\n",
       "      <th>Temperature</th>\n",
       "      <th>Humidity</th>\n",
       "      <th>Light</th>\n",
       "      <th>CO2</th>\n",
       "      <th>Occupancy</th>\n",
       "      <th>Time</th>\n",
       "      <th>Date</th>\n",
       "      <th>Holidays</th>\n",
       "    </tr>\n",
       "  </thead>\n",
       "  <tbody>\n",
       "    <tr>\n",
       "      <td>0</td>\n",
       "      <td>794</td>\n",
       "      <td>20.70</td>\n",
       "      <td>24.8400</td>\n",
       "      <td>0.00</td>\n",
       "      <td>587.50</td>\n",
       "      <td>0</td>\n",
       "      <td>04:01:00</td>\n",
       "      <td>2015-02-12</td>\n",
       "      <td>0</td>\n",
       "    </tr>\n",
       "    <tr>\n",
       "      <td>1</td>\n",
       "      <td>4742</td>\n",
       "      <td>19.79</td>\n",
       "      <td>35.2000</td>\n",
       "      <td>0.00</td>\n",
       "      <td>524.50</td>\n",
       "      <td>0</td>\n",
       "      <td>21:49:00</td>\n",
       "      <td>2015-02-14</td>\n",
       "      <td>1</td>\n",
       "    </tr>\n",
       "    <tr>\n",
       "      <td>2</td>\n",
       "      <td>2120</td>\n",
       "      <td>20.89</td>\n",
       "      <td>25.2000</td>\n",
       "      <td>0.00</td>\n",
       "      <td>557.20</td>\n",
       "      <td>0</td>\n",
       "      <td>23:19:00</td>\n",
       "      <td>2015-02-03</td>\n",
       "      <td>0</td>\n",
       "    </tr>\n",
       "    <tr>\n",
       "      <td>3</td>\n",
       "      <td>1426</td>\n",
       "      <td>22.20</td>\n",
       "      <td>24.3340</td>\n",
       "      <td>429.50</td>\n",
       "      <td>913.00</td>\n",
       "      <td>1</td>\n",
       "      <td>17:36:00</td>\n",
       "      <td>2015-02-05</td>\n",
       "      <td>0</td>\n",
       "    </tr>\n",
       "    <tr>\n",
       "      <td>4</td>\n",
       "      <td>1397</td>\n",
       "      <td>22.08</td>\n",
       "      <td>28.3700</td>\n",
       "      <td>544.20</td>\n",
       "      <td>1198.60</td>\n",
       "      <td>1</td>\n",
       "      <td>11:16:00</td>\n",
       "      <td>2015-02-03</td>\n",
       "      <td>0</td>\n",
       "    </tr>\n",
       "    <tr>\n",
       "      <td>...</td>\n",
       "      <td>...</td>\n",
       "      <td>...</td>\n",
       "      <td>...</td>\n",
       "      <td>...</td>\n",
       "      <td>...</td>\n",
       "      <td>...</td>\n",
       "      <td>...</td>\n",
       "      <td>...</td>\n",
       "      <td>...</td>\n",
       "    </tr>\n",
       "    <tr>\n",
       "      <td>14386</td>\n",
       "      <td>584</td>\n",
       "      <td>20.60</td>\n",
       "      <td>26.8900</td>\n",
       "      <td>0.00</td>\n",
       "      <td>508.00</td>\n",
       "      <td>0</td>\n",
       "      <td>00:30:59</td>\n",
       "      <td>2015-02-12</td>\n",
       "      <td>0</td>\n",
       "    </tr>\n",
       "    <tr>\n",
       "      <td>14387</td>\n",
       "      <td>1278</td>\n",
       "      <td>21.20</td>\n",
       "      <td>25.3925</td>\n",
       "      <td>454.75</td>\n",
       "      <td>782.00</td>\n",
       "      <td>1</td>\n",
       "      <td>09:16:59</td>\n",
       "      <td>2015-02-03</td>\n",
       "      <td>0</td>\n",
       "    </tr>\n",
       "    <tr>\n",
       "      <td>14388</td>\n",
       "      <td>6421</td>\n",
       "      <td>19.29</td>\n",
       "      <td>26.8900</td>\n",
       "      <td>0.00</td>\n",
       "      <td>465.50</td>\n",
       "      <td>0</td>\n",
       "      <td>04:51:00</td>\n",
       "      <td>2015-02-09</td>\n",
       "      <td>0</td>\n",
       "    </tr>\n",
       "    <tr>\n",
       "      <td>14389</td>\n",
       "      <td>2885</td>\n",
       "      <td>21.70</td>\n",
       "      <td>20.8900</td>\n",
       "      <td>433.00</td>\n",
       "      <td>802.25</td>\n",
       "      <td>1</td>\n",
       "      <td>17:55:00</td>\n",
       "      <td>2015-02-06</td>\n",
       "      <td>0</td>\n",
       "    </tr>\n",
       "    <tr>\n",
       "      <td>14390</td>\n",
       "      <td>3379</td>\n",
       "      <td>20.10</td>\n",
       "      <td>32.0900</td>\n",
       "      <td>0.00</td>\n",
       "      <td>503.00</td>\n",
       "      <td>0</td>\n",
       "      <td>23:06:00</td>\n",
       "      <td>2015-02-13</td>\n",
       "      <td>0</td>\n",
       "    </tr>\n",
       "  </tbody>\n",
       "</table>\n",
       "<p>14384 rows × 9 columns</p>\n",
       "</div>"
      ],
      "text/plain": [
       "       Unnamed: 0  Temperature  Humidity   Light      CO2  Occupancy     Time  \\\n",
       "0             794        20.70   24.8400    0.00   587.50          0 04:01:00   \n",
       "1            4742        19.79   35.2000    0.00   524.50          0 21:49:00   \n",
       "2            2120        20.89   25.2000    0.00   557.20          0 23:19:00   \n",
       "3            1426        22.20   24.3340  429.50   913.00          1 17:36:00   \n",
       "4            1397        22.08   28.3700  544.20  1198.60          1 11:16:00   \n",
       "...           ...          ...       ...     ...      ...        ...      ...   \n",
       "14386         584        20.60   26.8900    0.00   508.00          0 00:30:59   \n",
       "14387        1278        21.20   25.3925  454.75   782.00          1 09:16:59   \n",
       "14388        6421        19.29   26.8900    0.00   465.50          0 04:51:00   \n",
       "14389        2885        21.70   20.8900  433.00   802.25          1 17:55:00   \n",
       "14390        3379        20.10   32.0900    0.00   503.00          0 23:06:00   \n",
       "\n",
       "            Date  Holidays  \n",
       "0     2015-02-12         0  \n",
       "1     2015-02-14         1  \n",
       "2     2015-02-03         0  \n",
       "3     2015-02-05         0  \n",
       "4     2015-02-03         0  \n",
       "...          ...       ...  \n",
       "14386 2015-02-12         0  \n",
       "14387 2015-02-03         0  \n",
       "14388 2015-02-09         0  \n",
       "14389 2015-02-06         0  \n",
       "14390 2015-02-13         0  \n",
       "\n",
       "[14384 rows x 9 columns]"
      ]
     },
     "execution_count": 323,
     "metadata": {},
     "output_type": "execute_result"
    }
   ],
   "source": [
    "df"
   ]
  },
  {
   "cell_type": "code",
   "execution_count": 324,
   "metadata": {},
   "outputs": [],
   "source": [
    "attributes = ['Temperature','Humidity','Light','CO2','Holidays']\n",
    " \n",
    "X_train =df[attributes].values\n",
    "y_train=df['Occupancy'].values\n",
    "X_test=test[attributes].values\n",
    "y_test=test['Occupancy'].values"
   ]
  },
  {
   "cell_type": "code",
   "execution_count": 325,
   "metadata": {},
   "outputs": [],
   "source": [
    "#Si selezione il componente principale per la rappresentazione grafica\n",
    "selected_columns=['Temperature','Humidity','Light','CO2','Holidays']\n",
    "X = df[selected_columns]\n",
    "pca= PCA(n_components=1).fit(X)\n",
    "X=pca.transform(X)\n",
    "Xt = pca.transform(test[selected_columns])\n"
   ]
  },
  {
   "cell_type": "code",
   "execution_count": 310,
   "metadata": {},
   "outputs": [
    {
     "data": {
      "text/plain": [
       "{'whiskers': [<matplotlib.lines.Line2D at 0x22b93eb6e08>,\n",
       "  <matplotlib.lines.Line2D at 0x22b93eb6c08>],\n",
       " 'caps': [<matplotlib.lines.Line2D at 0x22bb8033d88>,\n",
       "  <matplotlib.lines.Line2D at 0x22bb808e048>],\n",
       " 'boxes': [<matplotlib.lines.Line2D at 0x22b93eb69c8>],\n",
       " 'medians': [<matplotlib.lines.Line2D at 0x22bb808e2c8>],\n",
       " 'fliers': [<matplotlib.lines.Line2D at 0x22bb808ec48>],\n",
       " 'means': []}"
      ]
     },
     "execution_count": 310,
     "metadata": {},
     "output_type": "execute_result"
    },
    {
     "data": {
      "image/png": "[encoded data removed]",
      "text/plain": [
       "<Figure size 432x288 with 1 Axes>"
      ]
     },
     "metadata": {
      "needs_background": "light"
     },
     "output_type": "display_data"
    }
   ],
   "source": [
    "fig1, ax1 = plt.subplots()\n",
    "ax1.set_title('Basic Plot')\n",
    "ax1.boxplot(Xt)"
   ]
  },
  {
   "cell_type": "code",
   "execution_count": 326,
   "metadata": {},
   "outputs": [],
   "source": [
    "trl = df[['Light']].values  #uso doppia parentesi qudra per mantenere la forma desiderata \n",
    "tel =test[['Light']].values"
   ]
  },
  {
   "cell_type": "code",
   "execution_count": 327,
   "metadata": {},
   "outputs": [
    {
     "data": {
      "text/plain": [
       "(14384, 5)"
      ]
     },
     "execution_count": 327,
     "metadata": {},
     "output_type": "execute_result"
    }
   ],
   "source": [
    "X_train.shape"
   ]
  },
  {
   "cell_type": "markdown",
   "metadata": {},
   "source": [
    "# Linear Regression"
   ]
  },
  {
   "cell_type": "markdown",
   "metadata": {},
   "source": [
    "**Dunque ho diverse train e test set** :<ul>\n",
    "    <li> X_train, Xtest per fare predizione coi 4 attributi ['Temperature','Humidity','Light','CO2']\n",
    "    <lI> X , Xt che hanno solo il main Component ottenuto da pca, hanno quindi una sola dimensione\n",
    "        <li> trl, tel   dove la l sta per light, contengono solo l' attributo light"
   ]
  },
  {
   "cell_type": "markdown",
   "metadata": {},
   "source": [
    "Per ogni regressore lineare ci sono tre regressioni:<ul>\n",
    "    <li>la prima classificazione è presentata su tutti gli attributi numerici\n",
    "    <li>La seconda sul primo componente principale ottenuto dalla pca (con annesso il grafico)\n",
    "    <li>La terza su 'Light'  con annesso grafico\n"
   ]
  },
  {
   "cell_type": "code",
   "execution_count": 345,
   "metadata": {},
   "outputs": [],
   "source": [
    "from sklearn.linear_model import LinearRegression, Ridge, Lasso, SGDRegressor"
   ]
  },
  {
   "cell_type": "code",
   "execution_count": 346,
   "metadata": {},
   "outputs": [
    {
     "data": {
      "text/plain": [
       "LinearRegression(copy_X=True, fit_intercept=True, n_jobs=None, normalize=False)"
      ]
     },
     "execution_count": 346,
     "metadata": {},
     "output_type": "execute_result"
    }
   ],
   "source": [
    "reg = LinearRegression()\n",
    "reg.fit(X_train, y_train)"
   ]
  },
  {
   "cell_type": "code",
   "execution_count": 347,
   "metadata": {},
   "outputs": [
    {
     "name": "stdout",
     "output_type": "stream",
     "text": [
      "Coefficients: \n",
      " [-9.14164748e-02  3.70633441e-03  2.01857029e-03  1.19513120e-04\n",
      " -1.35461164e-01]\n",
      "Intercept: \n",
      " 1.7315023674716439\n"
     ]
    }
   ],
   "source": [
    "print('Coefficients: \\n', reg.coef_)\n",
    "print('Intercept: \\n', reg.intercept_)"
   ]
  },
  {
   "cell_type": "code",
   "execution_count": 348,
   "metadata": {},
   "outputs": [],
   "source": [
    "y_pred = reg.predict(X_test)"
   ]
  },
  {
   "cell_type": "code",
   "execution_count": 349,
   "metadata": {},
   "outputs": [
    {
     "name": "stdout",
     "output_type": "stream",
     "text": [
      "R2: 0.885\n",
      "MSE: 0.020\n",
      "MAE: 0.087\n"
     ]
    }
   ],
   "source": [
    "print('R2: %.3f' % r2_score(y_test, y_pred))\n",
    "print('MSE: %.3f' % mean_squared_error(y_test, y_pred))\n",
    "print('MAE: %.3f' % mean_absolute_error(y_test, y_pred))"
   ]
  },
  {
   "cell_type": "code",
   "execution_count": 350,
   "metadata": {},
   "outputs": [
    {
     "data": {
      "text/plain": [
       "(14384, 1)"
      ]
     },
     "execution_count": 350,
     "metadata": {},
     "output_type": "execute_result"
    }
   ],
   "source": [
    "X.shape"
   ]
  },
  {
   "cell_type": "code",
   "execution_count": 351,
   "metadata": {},
   "outputs": [
    {
     "name": "stdout",
     "output_type": "stream",
     "text": [
      "R2: 0.442\n",
      "MSE: 0.099\n",
      "MAE: 0.205\n"
     ]
    }
   ],
   "source": [
    "reg = LinearRegression()\n",
    "reg.fit(X.T.reshape(-1, 1), y_train)\n",
    "y_pred = reg.predict(Xt.T.reshape(-1, 1))\n",
    "\n",
    "print('R2: %.3f' % r2_score(y_test, y_pred))\n",
    "print('MSE: %.3f' % mean_squared_error(y_test, y_pred))\n",
    "print('MAE: %.3f' % mean_absolute_error(y_test, y_pred))"
   ]
  },
  {
   "cell_type": "code",
   "execution_count": 354,
   "metadata": {},
   "outputs": [
    {
     "data": {
      "image/png": "[encoded data removed]",
      "text/plain": [
       "<Figure size 432x288 with 1 Axes>"
      ]
     },
     "metadata": {
      "needs_background": "light"
     },
     "output_type": "display_data"
    }
   ],
   "source": [
    "fig1, ax1 = plt.subplots()\n",
    "ax1.scatter(Xt, y_test,  color='black')\n",
    "ax1.plot(Xt, y_pred, color='blue', linewidth=3)     #Dataframe.T fa il trasposto del df\n",
    "ax1.set_xlabel(\"Main Component\")\n",
    "plt.show()"
   ]
  },
  {
   "cell_type": "code",
   "execution_count": 365,
   "metadata": {},
   "outputs": [
    {
     "name": "stdout",
     "output_type": "stream",
     "text": [
      "R2: 0.840\n",
      "MSE: 0.028\n",
      "MAE: 0.084\n"
     ]
    }
   ],
   "source": [
    "reg = LinearRegression()\n",
    "reg.fit(trl.T.reshape(-1, 1), y_train)\n",
    "y_pred = reg.predict(tel.T.reshape(-1, 1))\n",
    "\n",
    "print('R2: %.3f' % r2_score(y_test, y_pred))\n",
    "print('MSE: %.3f' % mean_squared_error(y_test, y_pred))\n",
    "print('MAE: %.3f' % mean_absolute_error(y_test, y_pred))"
   ]
  },
  {
   "cell_type": "code",
   "execution_count": 366,
   "metadata": {},
   "outputs": [
    {
     "data": {
      "image/png": "[encoded data removed]",
      "text/plain": [
       "<Figure size 432x288 with 1 Axes>"
      ]
     },
     "metadata": {
      "needs_background": "light"
     },
     "output_type": "display_data"
    }
   ],
   "source": [
    "fig,ax1=plt.subplots()\n",
    "ax1.scatter(tel, y_test,  color='black')\n",
    "ax1.plot(tel, y_pred, color='blue', linewidth=3)     #Dataframe.T fa il trasposto del df\n",
    "ax1.set_xlabel(\"Light\")\n",
    "plt.show()"
   ]
  },
  {
   "cell_type": "markdown",
   "metadata": {},
   "source": [
    "##  LassoLarsCV    \n",
    "\n",
    "Al posto del lasso.. fa la cross vaidation e utilizza algoritmo Lars che non si sa che cazzo sia ne lo si vuole scorprire"
   ]
  },
  {
   "cell_type": "code",
   "execution_count": 336,
   "metadata": {},
   "outputs": [
    {
     "name": "stdout",
     "output_type": "stream",
     "text": [
      "Coefficients: \n",
      " [-9.14164748e-02  3.70633441e-03  2.01857029e-03  1.19513120e-04\n",
      " -1.35461164e-01]\n",
      "Intercept: \n",
      " 1.731502367471223\n",
      "R2: 0.885\n",
      "MSE: 0.020\n",
      "MAE: 0.087\n"
     ]
    }
   ],
   "source": [
    "from sklearn.linear_model import LassoLarsCV\n",
    "reg = LassoLarsCV()\n",
    "reg.fit(X_train, y_train)\n",
    "print('Coefficients: \\n', reg.coef_)\n",
    "print('Intercept: \\n', reg.intercept_)\n",
    "y_pred = reg.predict(X_test)\n",
    "print('R2: %.3f' % r2_score(y_test, y_pred))\n",
    "print('MSE: %.3f' % mean_squared_error(y_test, y_pred))\n",
    "print('MAE: %.3f' % mean_absolute_error(y_test, y_pred))"
   ]
  },
  {
   "cell_type": "code",
   "execution_count": 337,
   "metadata": {},
   "outputs": [
    {
     "name": "stdout",
     "output_type": "stream",
     "text": [
      "Coefficients: \n",
      " [0.00083994]\n",
      "Intercept: \n",
      " 0.2327586206896552\n",
      "R2: 0.442\n",
      "MSE: 0.099\n",
      "MAE: 0.205\n"
     ]
    }
   ],
   "source": [
    "from sklearn.linear_model import LassoLarsCV\n",
    "reg = LassoLarsCV()\n",
    "reg.fit(X, y_train)\n",
    "print('Coefficients: \\n', reg.coef_)\n",
    "print('Intercept: \\n', reg.intercept_)\n",
    "y_pred = reg.predict(Xt)\n",
    "print('R2: %.3f' % r2_score(y_test, y_pred))\n",
    "print('MSE: %.3f' % mean_squared_error(y_test, y_pred))\n",
    "print('MAE: %.3f' % mean_absolute_error(y_test, y_pred))"
   ]
  },
  {
   "cell_type": "code",
   "execution_count": 338,
   "metadata": {},
   "outputs": [
    {
     "data": {
      "image/png": "[encoded data removed]",
      "text/plain": [
       "<Figure size 432x288 with 1 Axes>"
      ]
     },
     "metadata": {
      "needs_background": "light"
     },
     "output_type": "display_data"
    }
   ],
   "source": [
    "plt.scatter(Xt, y_test,  color='black')\n",
    "plt.plot(Xt, y_pred, color='blue', linewidth=3)     #Dataframe.T fa il trasposto del df\n",
    "plt.show()"
   ]
  },
  {
   "cell_type": "code",
   "execution_count": 339,
   "metadata": {},
   "outputs": [
    {
     "name": "stdout",
     "output_type": "stream",
     "text": [
      "Coefficients: \n",
      " [0.00185282]\n",
      "Intercept: \n",
      " -0.010419541392991366\n",
      "R2: 0.840\n",
      "MSE: 0.028\n",
      "MAE: 0.084\n"
     ]
    }
   ],
   "source": [
    "from sklearn.linear_model import LassoLarsCV\n",
    "reg = LassoLarsCV()\n",
    "reg.fit(trl, y_train)\n",
    "print('Coefficients: \\n', reg.coef_)\n",
    "print('Intercept: \\n', reg.intercept_)\n",
    "y_pred = reg.predict(tel)\n",
    "print('R2: %.3f' % r2_score(y_test, y_pred))\n",
    "print('MSE: %.3f' % mean_squared_error(y_test, y_pred))\n",
    "print('MAE: %.3f' % mean_absolute_error(y_test, y_pred))"
   ]
  },
  {
   "cell_type": "code",
   "execution_count": 234,
   "metadata": {},
   "outputs": [
    {
     "data": {
      "image/png": "[encoded data removed]",
      "text/plain": [
       "<Figure size 432x288 with 1 Axes>"
      ]
     },
     "metadata": {
      "needs_background": "light"
     },
     "output_type": "display_data"
    }
   ],
   "source": [
    "plt.scatter(tel, y_test,  color='black')\n",
    "plt.plot(tel, y_pred, color='blue', linewidth=3)     #Dataframe.T fa il trasposto del df\n",
    "plt.show()"
   ]
  },
  {
   "cell_type": "markdown",
   "metadata": {},
   "source": [
    "## Ridge"
   ]
  },
  {
   "cell_type": "code",
   "execution_count": 188,
   "metadata": {},
   "outputs": [
    {
     "name": "stdout",
     "output_type": "stream",
     "text": [
      "Coefficients: \n",
      " [-0.07646919  0.00019319  0.00199131  0.00019458]\n",
      "Intercept: \n",
      " 1.4299654324188125\n"
     ]
    }
   ],
   "source": [
    "reg = Ridge()\n",
    "reg.fit(X_train, y_train)\n",
    "print('Coefficients: \\n', reg.coef_)\n",
    "print('Intercept: \\n', reg.intercept_)\n",
    "y_pred = reg.predict(X_test)\n",
    "print('R2: %.3f' % r2_score(y_test, y_pred))\n",
    "print('MSE: %.3f' % mean_squared_error(y_test, y_pred))\n",
    "print('MAE: %.3f' % mean_absolute_error(y_test, y_pred))"
   ]
  },
  {
   "cell_type": "code",
   "execution_count": 235,
   "metadata": {},
   "outputs": [
    {
     "name": "stdout",
     "output_type": "stream",
     "text": [
      "Coefficients: \n",
      " [0.00083994]\n",
      "Intercept: \n",
      " 0.23275862068965517\n",
      "R2: 0.444\n",
      "MSE: 0.098\n",
      "MAE: 0.206\n"
     ]
    }
   ],
   "source": [
    "reg = Ridge()\n",
    "reg.fit(X, y_train)\n",
    "print('Coefficients: \\n', reg.coef_)\n",
    "print('Intercept: \\n', reg.intercept_)\n",
    "y_pred = reg.predict(Xt)\n",
    "print('R2: %.3f' % r2_score(y_test, y_pred))\n",
    "print('MSE: %.3f' % mean_squared_error(y_test, y_pred))\n",
    "print('MAE: %.3f' % mean_absolute_error(y_test, y_pred))"
   ]
  },
  {
   "cell_type": "code",
   "execution_count": 237,
   "metadata": {},
   "outputs": [
    {
     "data": {
      "image/png": "[encoded data removed]",
      "text/plain": [
       "<Figure size 432x288 with 1 Axes>"
      ]
     },
     "metadata": {
      "needs_background": "light"
     },
     "output_type": "display_data"
    }
   ],
   "source": [
    "plt.scatter(Xt, y_test,  color='black')\n",
    "plt.plot(Xt, y_pred, color='blue', linewidth=3)     #Dataframe.T fa il trasposto del df\n",
    "plt.show()"
   ]
  },
  {
   "cell_type": "code",
   "execution_count": 357,
   "metadata": {},
   "outputs": [
    {
     "name": "stdout",
     "output_type": "stream",
     "text": [
      "Coefficients: \n",
      " [0.00185282]\n",
      "Intercept: \n",
      " -0.010419541009602906\n",
      "R2: 0.840\n",
      "MSE: 0.028\n",
      "MAE: 0.084\n"
     ]
    }
   ],
   "source": [
    "reg = Ridge()\n",
    "reg.fit(trl, y_train)\n",
    "print('Coefficients: \\n', reg.coef_)\n",
    "print('Intercept: \\n', reg.intercept_)\n",
    "y_pred = reg.predict(tel)\n",
    "print('R2: %.3f' % r2_score(y_test, y_pred))\n",
    "print('MSE: %.3f' % mean_squared_error(y_test, y_pred))\n",
    "print('MAE: %.3f' % mean_absolute_error(y_test, y_pred))"
   ]
  },
  {
   "cell_type": "code",
   "execution_count": 358,
   "metadata": {},
   "outputs": [
    {
     "data": {
      "image/png": "[encoded data removed]",
      "text/plain": [
       "<Figure size 432x288 with 1 Axes>"
      ]
     },
     "metadata": {
      "needs_background": "light"
     },
     "output_type": "display_data"
    }
   ],
   "source": [
    "plt.scatter(tel, y_test,  color='black')\n",
    "plt.plot(tel, y_pred, color='blue', linewidth=3)     #Dataframe.T fa il trasposto del df\n",
    "plt.show()"
   ]
  },
  {
   "cell_type": "markdown",
   "metadata": {},
   "source": [
    "\n",
    "## HUBER\n"
   ]
  },
  {
   "cell_type": "code",
   "execution_count": 367,
   "metadata": {},
   "outputs": [],
   "source": [
    "from sklearn.linear_model import HuberRegressor, LinearRegression\n",
    "from sklearn.datasets import make_regression"
   ]
  },
  {
   "cell_type": "code",
   "execution_count": 360,
   "metadata": {},
   "outputs": [
    {
     "name": "stderr",
     "output_type": "stream",
     "text": [
      "C:\\Users\\carlo\\Anaconda3\\lib\\site-packages\\sklearn\\linear_model\\_huber.py:296: ConvergenceWarning: lbfgs failed to converge (status=1):\n",
      "STOP: TOTAL NO. of ITERATIONS REACHED LIMIT.\n",
      "\n",
      "Increase the number of iterations (max_iter) or scale the data as shown in:\n",
      "    https://scikit-learn.org/stable/modules/preprocessing.html\n",
      "  self.n_iter_ = _check_optimize_result(\"lbfgs\", opt_res, self.max_iter)\n"
     ]
    },
    {
     "name": "stdout",
     "output_type": "stream",
     "text": [
      "Coefficients: \n",
      " [0.00185282]\n",
      "Intercept: \n",
      " -0.010419541009602906\n",
      "R2: 0.802\n",
      "MSE: 0.035\n",
      "MAE: 0.069\n"
     ]
    },
    {
     "name": "stderr",
     "output_type": "stream",
     "text": [
      "C:\\Users\\carlo\\Anaconda3\\lib\\site-packages\\sklearn\\linear_model\\_huber.py:296: ConvergenceWarning: lbfgs failed to converge (status=1):\n",
      "STOP: TOTAL NO. of ITERATIONS REACHED LIMIT.\n",
      "\n",
      "Increase the number of iterations (max_iter) or scale the data as shown in:\n",
      "    https://scikit-learn.org/stable/modules/preprocessing.html\n",
      "  self.n_iter_ = _check_optimize_result(\"lbfgs\", opt_res, self.max_iter)\n"
     ]
    }
   ],
   "source": [
    "huber = HuberRegressor().fit(X_train, y_train)\n",
    "huber.fit(X_train, y_train)\n",
    "print('Coefficients: \\n', reg.coef_)\n",
    "print('Intercept: \\n', reg.intercept_)\n",
    "y_pred = huber.predict(X_test)\n",
    "print('R2: %.3f' % r2_score(y_test, y_pred))\n",
    "print('MSE: %.3f' % mean_squared_error(y_test, y_pred))\n",
    "print('MAE: %.3f' % mean_absolute_error(y_test, y_pred))"
   ]
  },
  {
   "cell_type": "code",
   "execution_count": 361,
   "metadata": {},
   "outputs": [
    {
     "name": "stdout",
     "output_type": "stream",
     "text": [
      "Coefficients: \n",
      " [0.00185282]\n",
      "Intercept: \n",
      " -0.010419541009602906\n",
      "R2: 0.434\n",
      "MSE: 0.100\n",
      "MAE: 0.204\n"
     ]
    }
   ],
   "source": [
    "huber = HuberRegressor().fit(X, y_train)\n",
    "huber.fit(X, y_train)\n",
    "print('Coefficients: \\n', reg.coef_)\n",
    "print('Intercept: \\n', reg.intercept_)\n",
    "y_pred = huber.predict(Xt)\n",
    "print('R2: %.3f' % r2_score(y_test, y_pred))\n",
    "print('MSE: %.3f' % mean_squared_error(y_test, y_pred))\n",
    "print('MAE: %.3f' % mean_absolute_error(y_test, y_pred))"
   ]
  },
  {
   "cell_type": "code",
   "execution_count": 362,
   "metadata": {},
   "outputs": [
    {
     "data": {
      "image/png": "[encoded data removed]",
      "text/plain": [
       "<Figure size 432x288 with 1 Axes>"
      ]
     },
     "metadata": {
      "needs_background": "light"
     },
     "output_type": "display_data"
    }
   ],
   "source": [
    "plt.scatter(Xt, y_test,  color='black')\n",
    "plt.plot(Xt, y_pred, color='blue', linewidth=3)     #Dataframe.T fa il trasposto del df\n",
    "plt.show()"
   ]
  },
  {
   "cell_type": "code",
   "execution_count": 270,
   "metadata": {},
   "outputs": [
    {
     "name": "stdout",
     "output_type": "stream",
     "text": [
      "Coefficients: \n",
      " [0.00185282]\n",
      "Intercept: \n",
      " -0.010419541009602906\n",
      "R2: 0.801\n",
      "MSE: 0.035\n",
      "MAE: 0.069\n"
     ]
    }
   ],
   "source": [
    "huber = HuberRegressor().fit(trl, y_train)\n",
    "huber.fit(trl, y_train)\n",
    "print('Coefficients: \\n', reg.coef_)\n",
    "print('Intercept: \\n', reg.intercept_)\n",
    "y_pred = huber.predict(tel)\n",
    "print('R2: %.3f' % r2_score(y_test, y_pred))\n",
    "print('MSE: %.3f' % mean_squared_error(y_test, y_pred))\n",
    "print('MAE: %.3f' % mean_absolute_error(y_test, y_pred))"
   ]
  },
  {
   "cell_type": "code",
   "execution_count": 271,
   "metadata": {},
   "outputs": [
    {
     "data": {
      "image/png": "[encoded data removed]",
      "text/plain": [
       "<Figure size 432x288 with 1 Axes>"
      ]
     },
     "metadata": {
      "needs_background": "light"
     },
     "output_type": "display_data"
    }
   ],
   "source": [
    "plt.scatter(tel, y_test,  color='black')\n",
    "plt.plot(tel, y_pred, color='blue', linewidth=3)     #Dataframe.T fa il trasposto del df\n",
    "plt.show()"
   ]
  },
  {
   "cell_type": "markdown",
   "metadata": {},
   "source": [
    "## Theil\n",
    "\n",
    "\n",
    "Very bad results"
   ]
  },
  {
   "cell_type": "code",
   "execution_count": 34,
   "metadata": {},
   "outputs": [
    {
     "name": "stdout",
     "output_type": "stream",
     "text": [
      "Coefficients: \n",
      " [0.00044178]\n",
      "Intercept: \n",
      " -7.032883056138885e-06\n"
     ]
    }
   ],
   "source": [
    "from sklearn.linear_model import TheilSenRegressor\n",
    "from sklearn.datasets import make_regression\n",
    "\n",
    "reg = TheilSenRegressor(random_state=0).fit(X_train, y_train)\n",
    "print('Coefficients: \\n', reg.coef_)\n",
    "print('Intercept: \\n', reg.intercept_)"
   ]
  },
  {
   "cell_type": "code",
   "execution_count": 35,
   "metadata": {},
   "outputs": [
    {
     "name": "stdout",
     "output_type": "stream",
     "text": [
      "R2: 0.186\n",
      "MSE: 0.144\n",
      "MAE: 0.190\n"
     ]
    }
   ],
   "source": [
    "y_pred = reg.predict(X_test)\n",
    "print('R2: %.3f' % r2_score(y_test, y_pred))\n",
    "print('MSE: %.3f' % mean_squared_error(y_test, y_pred))\n",
    "print('MAE: %.3f' % mean_absolute_error(y_test, y_pred))"
   ]
  },
  {
   "cell_type": "code",
   "execution_count": 36,
   "metadata": {},
   "outputs": [
    {
     "data": {
      "image/png": "[encoded data removed]",
      "text/plain": [
       "<Figure size 432x288 with 1 Axes>"
      ]
     },
     "metadata": {
      "needs_background": "light"
     },
     "output_type": "display_data"
    }
   ],
   "source": [
    "plt.scatter(X_test, y_test,  color='black')\n",
    "plt.plot(X_test, y_pred, color='blue', linewidth=3)     \n",
    "plt.show()\n",
    "\n",
    "#fa proprio cagare"
   ]
  },
  {
   "cell_type": "markdown",
   "metadata": {},
   "source": [
    "## Bayesian Ridge"
   ]
  },
  {
   "cell_type": "code",
   "execution_count": 378,
   "metadata": {},
   "outputs": [
    {
     "name": "stdout",
     "output_type": "stream",
     "text": [
      "Coefficients: \n",
      " [-9.13419045e-02  3.70171040e-03  2.01838452e-03  1.19616745e-04\n",
      " -1.35202820e-01]\n",
      "Intercept: \n",
      " 1.7299517009391925\n",
      "R2: 0.885\n",
      "MSE: 0.020\n",
      "MAE: 0.087\n"
     ]
    }
   ],
   "source": [
    "from sklearn.linear_model import BayesianRidge\n",
    "\n",
    "reg = BayesianRidge().fit(X_train, y_train)\n",
    "print('Coefficients: \\n', reg.coef_)\n",
    "print('Intercept: \\n', reg.intercept_)\n",
    "y_pred = reg.predict(X_test)\n",
    "print('R2: %.3f' % r2_score(y_test, y_pred))\n",
    "print('MSE: %.3f' % mean_squared_error(y_test, y_pred))\n",
    "print('MAE: %.3f' % mean_absolute_error(y_test, y_pred))"
   ]
  },
  {
   "cell_type": "code",
   "execution_count": 379,
   "metadata": {},
   "outputs": [
    {
     "name": "stdout",
     "output_type": "stream",
     "text": [
      "Coefficients: \n",
      " [0.00083992]\n",
      "Intercept: \n",
      " 0.2327586206896552\n",
      "R2: 0.442\n",
      "MSE: 0.099\n",
      "MAE: 0.205\n"
     ]
    }
   ],
   "source": [
    "from sklearn.linear_model import BayesianRidge\n",
    "\n",
    "reg = BayesianRidge().fit(X, y_train)\n",
    "print('Coefficients: \\n', reg.coef_)\n",
    "print('Intercept: \\n', reg.intercept_)\n",
    "y_pred = reg.predict(Xt)\n",
    "print('R2: %.3f' % r2_score(y_test, y_pred))\n",
    "print('MSE: %.3f' % mean_squared_error(y_test, y_pred))\n",
    "print('MAE: %.3f' % mean_absolute_error(y_test, y_pred))"
   ]
  },
  {
   "cell_type": "code",
   "execution_count": 381,
   "metadata": {},
   "outputs": [
    {
     "data": {
      "image/png": "[encoded data removed]",
      "text/plain": [
       "<Figure size 432x288 with 1 Axes>"
      ]
     },
     "metadata": {
      "needs_background": "light"
     },
     "output_type": "display_data"
    }
   ],
   "source": [
    "plt.scatter(Xt, y_test,  color='black')\n",
    "plt.plot(Xt, y_pred, color='blue', linewidth=3)     #Dataframe.T fa il trasposto del df\n",
    "plt.show()"
   ]
  },
  {
   "cell_type": "code",
   "execution_count": 375,
   "metadata": {},
   "outputs": [
    {
     "name": "stdout",
     "output_type": "stream",
     "text": [
      "R2: 0.840\n",
      "MSE: 0.028\n",
      "MAE: 0.084\n"
     ]
    }
   ],
   "source": [
    "reg = BayesianRidge().fit(trl, y_train)\n",
    "print('Coefficients: \\n', reg.coef_)\n",
    "print('Intercept: \\n', reg.interc\n",
    "y_pred = reg.predict(tel)\n",
    "print('R2: %.3f' % r2_score(y_test, y_pred))\n",
    "print('MSE: %.3f' % mean_squared_error(y_test, y_pred))\n",
    "print('MAE: %.3f' % mean_absolute_error(y_test, y_pred))"
   ]
  },
  {
   "cell_type": "code",
   "execution_count": 377,
   "metadata": {},
   "outputs": [
    {
     "data": {
      "image/png": "[encoded data removed]",
      "text/plain": [
       "<Figure size 432x288 with 1 Axes>"
      ]
     },
     "metadata": {
      "needs_background": "light"
     },
     "output_type": "display_data"
    }
   ],
   "source": [
    "plt.scatter(tel, y_test,  color='black')\n",
    "plt.plot(tel, y_pred, color='blue', linewidth=3)     #Dataframe.T fa il trasposto del df\n",
    "plt.show()"
   ]
  },
  {
   "cell_type": "markdown",
   "metadata": {},
   "source": [
    "# Robust Linear Model"
   ]
  },
  {
   "cell_type": "markdown",
   "metadata": {},
   "source": [
    "\n",
    "#Non funzione purtroppo il Ransac\n",
    "\n",
    "\n",
    "import statsmodels.api as sm\n",
    "\n",
    "import numpy as np\n",
    "import statsmodels.api as sm\n",
    "import matplotlib.pyplot as plt\n",
    "from statsmodels.sandbox.regression.predstd import wls_prediction_std\n",
    "\n",
    "from sklearn import linear_model, datasets\n",
    "from sklearn.linear_model import RANSACRegressor"
   ]
  },
  {
   "cell_type": "code",
   "execution_count": 40,
   "metadata": {},
   "outputs": [
    {
     "data": {
      "text/plain": [
       "(14384, 1)"
      ]
     },
     "execution_count": 40,
     "metadata": {},
     "output_type": "execute_result"
    }
   ],
   "source": [
    "X_train.shape\n"
   ]
  },
  {
   "cell_type": "markdown",
   "metadata": {},
   "source": [
    "\n",
    "reg = linear_model.RANSACRegressor().fit(X_train, y_train)"
   ]
  },
  {
   "cell_type": "markdown",
   "metadata": {},
   "source": [
    "# Classification"
   ]
  },
  {
   "cell_type": "code",
   "execution_count": 396,
   "metadata": {},
   "outputs": [],
   "source": [
    "from sklearn.model_selection import train_test_split, cross_val_score \n",
    "from sklearn.decomposition import PCA\n",
    "from sklearn.metrics import accuracy_score, f1_score, classification_report"
   ]
  },
  {
   "cell_type": "code",
   "execution_count": 397,
   "metadata": {},
   "outputs": [],
   "source": [
    "#which is the best feature??\n",
    "#Si selezione il componente principale per la rappresentazione grafica\n",
    "selected_columns=['Temperature','Humidity','Light','CO2','Holidays']\n",
    "X = df[selected_columns]\n",
    "X = PCA(n_components=1).fit_transform(X)\n",
    "Xt = PCA(n_components=1).fit_transform(test[selected_columns])\n"
   ]
  },
  {
   "cell_type": "code",
   "execution_count": 398,
   "metadata": {},
   "outputs": [],
   "source": [
    "#Tuttavia eseguiamo la classificazione con i nostri soliti 4 attributi\n",
    "\n",
    "attributes = ['Temperature','Humidity','Light','CO2']\n",
    " \n",
    "X_train =df[attributes].values\n",
    "y_train=df['Occupancy'].values\n",
    "X_test=test[attributes].values\n",
    "y_test=test['Occupancy'].values"
   ]
  },
  {
   "cell_type": "code",
   "execution_count": 399,
   "metadata": {},
   "outputs": [],
   "source": [
    "trl = df[['Light']].values  #uso doppia parentesi qudra per mantenere la forma desiderata \n",
    "tel =test[['Light']].values"
   ]
  },
  {
   "cell_type": "code",
   "execution_count": 400,
   "metadata": {},
   "outputs": [
    {
     "name": "stdout",
     "output_type": "stream",
     "text": [
      "14384 14384\n",
      "(14384, 4)\n"
     ]
    }
   ],
   "source": [
    "print(len(X_train),len(y_train))\n",
    "print(X_train.shape)"
   ]
  },
  {
   "cell_type": "code",
   "execution_count": 401,
   "metadata": {},
   "outputs": [
    {
     "name": "stdout",
     "output_type": "stream",
     "text": [
      "(14384, 1) (6168, 1)\n"
     ]
    }
   ],
   "source": [
    "print(trl.shape,tel.shape)  \n",
    "#senza le quadre prima, sarebbe venuta shape = (14348,19)"
   ]
  },
  {
   "cell_type": "markdown",
   "metadata": {},
   "source": [
    "**Dunque ho diverse train e test set** :<ul>\n",
    "    <li> X_train, Xtest per fare predizione coi 4 attributi ['Temperature','Humidity','Light','CO2']<\\lI>\n",
    "    <lI> X , Xt che hanno solo il main Component ottenuto da pca, hanno quindi una sola dimensione<\\li>\n",
    "        <li> trl, tel   dove la l sta per light, contengono solo l' attributo light"
   ]
  },
  {
   "cell_type": "code",
   "execution_count": null,
   "metadata": {},
   "outputs": [],
   "source": []
  },
  {
   "cell_type": "code",
   "execution_count": 402,
   "metadata": {},
   "outputs": [
    {
     "name": "stderr",
     "output_type": "stream",
     "text": [
      "C:\\Users\\carlo\\Anaconda3\\lib\\site-packages\\matplotlib\\text.py:1150: FutureWarning: elementwise comparison failed; returning scalar instead, but in the future will perform elementwise comparison\n",
      "  if s != self._text:\n"
     ]
    },
    {
     "data": {
      "image/png": "[encoded data removed]",
      "text/plain": [
       "<Figure size 432x288 with 1 Axes>"
      ]
     },
     "metadata": {
      "needs_background": "light"
     },
     "output_type": "display_data"
    }
   ],
   "source": [
    "plt.scatter(X, y_train)\n",
    "plt.xlabel(X, fontsize=16)\n",
    "plt.ylabel('Occupancy', fontsize=16)\n",
    "plt.tick_params(axis='both', which='major', labelsize=16)\n",
    "plt.show()"
   ]
  },
  {
   "cell_type": "markdown",
   "metadata": {},
   "source": [
    "## Logistic Regression"
   ]
  },
  {
   "cell_type": "code",
   "execution_count": 403,
   "metadata": {},
   "outputs": [],
   "source": [
    "from sklearn.linear_model import LogisticRegressionCV"
   ]
  },
  {
   "cell_type": "code",
   "execution_count": 433,
   "metadata": {},
   "outputs": [
    {
     "name": "stdout",
     "output_type": "stream",
     "text": [
      "Accuracy 0.9828145265888456\n",
      "F1-score [0.9887186  0.96394558]\n",
      "              precision    recall  f1-score   support\n",
      "\n",
      "           0       1.00      0.98      0.99      4747\n",
      "           1       0.93      1.00      0.96      1421\n",
      "\n",
      "    accuracy                           0.98      6168\n",
      "   macro avg       0.97      0.99      0.98      6168\n",
      "weighted avg       0.98      0.98      0.98      6168\n",
      "\n"
     ]
    },
    {
     "name": "stderr",
     "output_type": "stream",
     "text": [
      "C:\\Users\\carlo\\Anaconda3\\lib\\site-packages\\sklearn\\linear_model\\_sag.py:330: ConvergenceWarning: The max_iter was reached which means the coef_ did not converge\n",
      "  \"the coef_ did not converge\", ConvergenceWarning)\n"
     ]
    }
   ],
   "source": [
    "from sklearn.linear_model import LogisticRegression\n",
    "clf = LogisticRegression(random_state=0, solver='saga')\n",
    "clf.fit(X_train, y_train)\n",
    "y_pred = clf.predict(X_test)\n",
    "\n",
    "print('Accuracy %s' % accuracy_score(y_test, y_pred))\n",
    "print('F1-score %s' % f1_score(y_test, y_pred, average=None))\n",
    "print(classification_report(y_test, y_pred))"
   ]
  },
  {
   "cell_type": "code",
   "execution_count": 435,
   "metadata": {},
   "outputs": [
    {
     "name": "stdout",
     "output_type": "stream",
     "text": [
      "Accuracy 0.9897859922178989\n",
      "F1-score [0.99332839 0.9782233 ]\n",
      "              precision    recall  f1-score   support\n",
      "\n",
      "           0       1.00      0.99      0.99      4747\n",
      "           1       0.96      1.00      0.98      1421\n",
      "\n",
      "    accuracy                           0.99      6168\n",
      "   macro avg       0.98      0.99      0.99      6168\n",
      "weighted avg       0.99      0.99      0.99      6168\n",
      "\n"
     ]
    }
   ],
   "source": [
    "clf = LogisticRegression(random_state=0, solver='newton-cg')\n",
    "clf.fit(X_train, y_train)\n",
    "y_pred = clf.predict(X_test)\n",
    "\n",
    "print('Accuracy %s' % accuracy_score(y_test, y_pred))\n",
    "print('F1-score %s' % f1_score(y_test, y_pred, average=None))\n",
    "print(classification_report(y_test, y_pred))"
   ]
  },
  {
   "cell_type": "markdown",
   "metadata": {},
   "source": [
    "Passo il classificatore su X ( il componente principale per poter fare il grafo)"
   ]
  },
  {
   "cell_type": "code",
   "execution_count": 436,
   "metadata": {},
   "outputs": [
    {
     "name": "stdout",
     "output_type": "stream",
     "text": [
      "Accuracy 0.8850518806744487\n",
      "F1-score [0.92314363 0.772099  ]\n",
      "              precision    recall  f1-score   support\n",
      "\n",
      "           0       0.95      0.90      0.92      4747\n",
      "           1       0.71      0.85      0.77      1421\n",
      "\n",
      "    accuracy                           0.89      6168\n",
      "   macro avg       0.83      0.87      0.85      6168\n",
      "weighted avg       0.90      0.89      0.89      6168\n",
      "\n"
     ]
    }
   ],
   "source": [
    "from scipy.special import expit\n",
    "\n",
    "clf = LogisticRegression(random_state=0, class_weight='balanced',solver='newton-cg')\n",
    "clf.fit(X, y_train)\n",
    "y_pred = clf.predict(Xt)\n",
    "\n",
    "print('Accuracy %s' % accuracy_score(y_test, y_pred))\n",
    "print('F1-score %s' % f1_score(y_test, y_pred, average=None))\n",
    "print(classification_report(y_test, y_pred))"
   ]
  },
  {
   "cell_type": "code",
   "execution_count": 407,
   "metadata": {},
   "outputs": [
    {
     "data": {
      "image/png": "[encoded data removed]",
      "text/plain": [
       "<Figure size 432x288 with 1 Axes>"
      ]
     },
     "metadata": {
      "needs_background": "light"
     },
     "output_type": "display_data"
    }
   ],
   "source": [
    "loss = expit(sorted(Xt) * clf.coef_ + clf.intercept_).ravel()\n",
    "plt.plot(sorted(Xt), loss, color='red', linewidth=3)\n",
    "plt.scatter(X, y_train)\n",
    "plt.xlabel('Main component', fontsize=16)\n",
    "plt.ylabel('Occupancy', fontsize=16)\n",
    "plt.tick_params(axis='both', which='major', labelsize=16)\n",
    "plt.show()"
   ]
  },
  {
   "cell_type": "code",
   "execution_count": 408,
   "metadata": {},
   "outputs": [
    {
     "data": {
      "text/plain": [
       "LinearRegression(copy_X=True, fit_intercept=True, n_jobs=None, normalize=False)"
      ]
     },
     "execution_count": 408,
     "metadata": {},
     "output_type": "execute_result"
    }
   ],
   "source": [
    "reg = LinearRegression()\n",
    "reg.fit(X, y_train)"
   ]
  },
  {
   "cell_type": "code",
   "execution_count": 437,
   "metadata": {},
   "outputs": [
    {
     "data": {
      "image/png": "[encoded data removed]",
      "text/plain": [
       "<Figure size 432x288 with 1 Axes>"
      ]
     },
     "metadata": {
      "needs_background": "light"
     },
     "output_type": "display_data"
    }
   ],
   "source": [
    "plt.scatter(X, y_train)\n",
    "\n",
    "loss = expit(sorted(Xt) * clf.coef_ + clf.intercept_).ravel()\n",
    "plt.plot(sorted(Xt), loss, color='orange', linewidth=3)\n",
    "loss_pca_log=loss\n",
    "\n",
    "plt.plot(sorted(Xt), reg.coef_ * sorted(Xt) + reg.intercept_, color='red', linewidth=3)\n",
    "\n",
    "\n",
    "plt.xlabel('Main component', fontsize=16)\n",
    "plt.ylabel('Occupancy', fontsize=16)\n",
    "plt.tick_params(axis='both', which='major', labelsize=16)\n",
    "plt.show()"
   ]
  },
  {
   "cell_type": "code",
   "execution_count": 438,
   "metadata": {},
   "outputs": [
    {
     "name": "stdout",
     "output_type": "stream",
     "text": [
      "Accuracy 0.9824902723735408\n",
      "F1-score [0.98850575 0.96326531]\n",
      "              precision    recall  f1-score   support\n",
      "\n",
      "           0       1.00      0.98      0.99      4747\n",
      "           1       0.93      1.00      0.96      1421\n",
      "\n",
      "    accuracy                           0.98      6168\n",
      "   macro avg       0.97      0.99      0.98      6168\n",
      "weighted avg       0.98      0.98      0.98      6168\n",
      "\n"
     ]
    }
   ],
   "source": [
    "from scipy.special import expit\n",
    "\n",
    "clf = LogisticRegression(random_state=0, class_weight='balanced',solver='newton-cg')\n",
    "clf.fit(trl, y_train)\n",
    "y_pred = clf.predict(tel)\n",
    "\n",
    "print('Accuracy %s' % accuracy_score(y_test, y_pred))\n",
    "print('F1-score %s' % f1_score(y_test, y_pred, average=None))\n",
    "print(classification_report(y_test, y_pred))"
   ]
  },
  {
   "cell_type": "code",
   "execution_count": 440,
   "metadata": {},
   "outputs": [
    {
     "data": {
      "image/png": "[encoded data removed]",
      "text/plain": [
       "<Figure size 432x288 with 1 Axes>"
      ]
     },
     "metadata": {
      "needs_background": "light"
     },
     "output_type": "display_data"
    }
   ],
   "source": [
    "plt.scatter(trl, y_train)\n",
    "\n",
    "loss = expit(sorted(tel) * clf.coef_ + clf.intercept_).ravel()\n",
    "plt.plot(sorted(tel), loss, color='orange', linewidth=3)\n",
    "loss_l_log=loss\n",
    "\n",
    "plt.plot(sorted(tel), reg.coef_ * sorted(tel) + reg.intercept_, color='red', linewidth=3)\n",
    "\n",
    "\n",
    "plt.xlabel('Light', fontsize=16)\n",
    "plt.ylabel('Occupancy', fontsize=16)\n",
    "plt.tick_params(axis='both', which='major', labelsize=16)\n",
    "plt.show()"
   ]
  },
  {
   "cell_type": "markdown",
   "metadata": {},
   "source": [
    "## PERCEPTRON"
   ]
  },
  {
   "cell_type": "code",
   "execution_count": 441,
   "metadata": {},
   "outputs": [
    {
     "name": "stdout",
     "output_type": "stream",
     "text": [
      "Accuracy 0.9777885862516212\n",
      "F1-score [0.98536481 0.95394958]\n",
      "              precision    recall  f1-score   support\n",
      "\n",
      "           0       1.00      0.97      0.99      4747\n",
      "           1       0.91      1.00      0.95      1421\n",
      "\n",
      "    accuracy                           0.98      6168\n",
      "   macro avg       0.96      0.99      0.97      6168\n",
      "weighted avg       0.98      0.98      0.98      6168\n",
      "\n"
     ]
    }
   ],
   "source": [
    "from sklearn.linear_model import Perceptron\n",
    "clf = Perceptron(random_state=0)\n",
    "clf.fit(X_train, y_train)\n",
    "y_pred = clf.predict(X_test)\n",
    "\n",
    "print('Accuracy %s' % accuracy_score(y_test, y_pred))\n",
    "print('F1-score %s' % f1_score(y_test, y_pred, average=None))\n",
    "print(classification_report(y_test, y_pred))"
   ]
  },
  {
   "cell_type": "code",
   "execution_count": 442,
   "metadata": {},
   "outputs": [
    {
     "name": "stdout",
     "output_type": "stream",
     "text": [
      "Accuracy 0.18369001297016863\n",
      "F1-score [0.30656934 0.00788177]\n",
      "              precision    recall  f1-score   support\n",
      "\n",
      "           0       0.44      0.23      0.31      4747\n",
      "           1       0.01      0.01      0.01      1421\n",
      "\n",
      "    accuracy                           0.18      6168\n",
      "   macro avg       0.22      0.12      0.16      6168\n",
      "weighted avg       0.34      0.18      0.24      6168\n",
      "\n"
     ]
    }
   ],
   "source": [
    "from scipy.special import expit\n",
    "\n",
    "clf = Perceptron(random_state=0)\n",
    "clf.fit(X, y_train)\n",
    "y_pred = clf.predict(Xt)\n",
    "\n",
    "print('Accuracy %s' % accuracy_score(y_test, y_pred))\n",
    "print('F1-score %s' % f1_score(y_test, y_pred, average=None))\n",
    "print(classification_report(y_test, y_pred))"
   ]
  },
  {
   "cell_type": "code",
   "execution_count": 443,
   "metadata": {},
   "outputs": [
    {
     "data": {
      "image/png": "[encoded data removed]",
      "text/plain": [
       "<Figure size 432x288 with 1 Axes>"
      ]
     },
     "metadata": {
      "needs_background": "light"
     },
     "output_type": "display_data"
    }
   ],
   "source": [
    "plt.scatter(X, y_train)\n",
    "\n",
    "loss = expit(sorted(Xt) * clf.coef_ + clf.intercept_).ravel()\n",
    "plt.plot(sorted(Xt), loss, color='orange', linewidth=3)\n",
    "loss_pca_perceptron=loss\n",
    "\n",
    "plt.plot(sorted(Xt), reg.coef_ * sorted(Xt) + reg.intercept_, color='red', linewidth=3)\n",
    "\n",
    "\n",
    "plt.xlabel('Main component', fontsize=16)\n",
    "plt.ylabel('Occupancy', fontsize=16)\n",
    "plt.tick_params(axis='both', which='major', labelsize=16)\n",
    "plt.show()"
   ]
  },
  {
   "cell_type": "code",
   "execution_count": 444,
   "metadata": {},
   "outputs": [
    {
     "name": "stdout",
     "output_type": "stream",
     "text": [
      "Accuracy 0.916018158236057\n",
      "F1-score [0.94229055 0.84583333]\n",
      "              precision    recall  f1-score   support\n",
      "\n",
      "           0       1.00      0.89      0.94      4747\n",
      "           1       0.73      1.00      0.85      1421\n",
      "\n",
      "    accuracy                           0.92      6168\n",
      "   macro avg       0.87      0.95      0.89      6168\n",
      "weighted avg       0.94      0.92      0.92      6168\n",
      "\n"
     ]
    }
   ],
   "source": [
    "from scipy.special import expit\n",
    "\n",
    "clf = Perceptron(random_state=0)\n",
    "clf.fit(trl, y_train)\n",
    "y_pred = clf.predict(tel)\n",
    "\n",
    "print('Accuracy %s' % accuracy_score(y_test, y_pred))\n",
    "print('F1-score %s' % f1_score(y_test, y_pred, average=None))\n",
    "print(classification_report(y_test, y_pred))"
   ]
  },
  {
   "cell_type": "code",
   "execution_count": 446,
   "metadata": {},
   "outputs": [
    {
     "data": {
      "image/png": "[encoded data removed]",
      "text/plain": [
       "<Figure size 432x288 with 1 Axes>"
      ]
     },
     "metadata": {
      "needs_background": "light"
     },
     "output_type": "display_data"
    }
   ],
   "source": [
    "plt.scatter(trl, y_train)\n",
    "\n",
    "loss = expit(sorted(tel) * clf.coef_ + clf.intercept_).ravel()\n",
    "plt.plot(sorted(tel), loss, color='orange', linewidth=3)\n",
    "loss_l_perceptron=loss\n",
    "\n",
    "plt.plot(sorted(tel), reg.coef_ * sorted(tel) + reg.intercept_, color='red', linewidth=3)\n",
    "\n",
    "\n",
    "plt.xlabel('Light', fontsize=16)\n",
    "plt.ylabel('Occupancy', fontsize=16)\n",
    "plt.tick_params(axis='both', which='major', labelsize=16)\n",
    "plt.show()"
   ]
  },
  {
   "cell_type": "markdown",
   "metadata": {},
   "source": [
    "## RidgeClassifierCV"
   ]
  },
  {
   "cell_type": "code",
   "execution_count": 447,
   "metadata": {},
   "outputs": [
    {
     "name": "stdout",
     "output_type": "stream",
     "text": [
      "Accuracy 0.9865434500648509\n",
      "F1-score [0.99118802 0.97154611]\n",
      "              precision    recall  f1-score   support\n",
      "\n",
      "           0       1.00      0.98      0.99      4747\n",
      "           1       0.95      1.00      0.97      1421\n",
      "\n",
      "    accuracy                           0.99      6168\n",
      "   macro avg       0.97      0.99      0.98      6168\n",
      "weighted avg       0.99      0.99      0.99      6168\n",
      "\n"
     ]
    }
   ],
   "source": [
    "from sklearn.linear_model import RidgeClassifierCV\n",
    "clf =RidgeClassifierCV(normalize=True)\n",
    "clf.fit(X_train, y_train)\n",
    "y_pred = clf.predict(X_test)\n",
    "\n",
    "print('Accuracy %s' % accuracy_score(y_test, y_pred))\n",
    "print('F1-score %s' % f1_score(y_test, y_pred, average=None))\n",
    "print(classification_report(y_test, y_pred))"
   ]
  },
  {
   "cell_type": "code",
   "execution_count": 460,
   "metadata": {},
   "outputs": [
    {
     "name": "stdout",
     "output_type": "stream",
     "text": [
      "Accuracy 0.8868352788586251\n",
      "F1-score [0.92521963 0.76748834]\n",
      "              precision    recall  f1-score   support\n",
      "\n",
      "           0       0.94      0.91      0.93      4747\n",
      "           1       0.73      0.81      0.77      1421\n",
      "\n",
      "    accuracy                           0.89      6168\n",
      "   macro avg       0.84      0.86      0.85      6168\n",
      "weighted avg       0.89      0.89      0.89      6168\n",
      "\n"
     ]
    }
   ],
   "source": [
    "from scipy.special import expit\n",
    "\n",
    "clf = RidgeClassifierCV(class_weight='balanced')\n",
    "clf.fit(X, y_train)\n",
    "y_pred = clf.predict(Xt)\n",
    "\n",
    "print('Accuracy %s' % accuracy_score(y_test, y_pred))\n",
    "print('F1-score %s' % f1_score(y_test, y_pred, average=None))\n",
    "print(classification_report(y_test, y_pred))"
   ]
  },
  {
   "cell_type": "code",
   "execution_count": 461,
   "metadata": {},
   "outputs": [
    {
     "data": {
      "image/png": "[encoded data removed]",
      "text/plain": [
       "<Figure size 432x288 with 1 Axes>"
      ]
     },
     "metadata": {
      "needs_background": "light"
     },
     "output_type": "display_data"
    }
   ],
   "source": [
    "plt.scatter(X, y_train)\n",
    "\n",
    "loss = expit(sorted(Xt) * clf.coef_ + clf.intercept_).ravel()\n",
    "plt.plot(sorted(Xt), loss, color='orange', linewidth=3)\n",
    "loss_pca_ridge=loss\n",
    "\n",
    "plt.plot(sorted(Xt), reg.coef_ * sorted(Xt) + reg.intercept_, color='red', linewidth=3)\n",
    "\n",
    "\n",
    "plt.xlabel('Main component', fontsize=16)\n",
    "plt.ylabel('Occupancy', fontsize=16)\n",
    "plt.tick_params(axis='both', which='major', labelsize=16)\n",
    "plt.show()"
   ]
  },
  {
   "cell_type": "code",
   "execution_count": 462,
   "metadata": {},
   "outputs": [
    {
     "name": "stdout",
     "output_type": "stream",
     "text": [
      "Accuracy 0.9682230869001297\n",
      "F1-score [0.97892926 0.93539881]\n",
      "              precision    recall  f1-score   support\n",
      "\n",
      "           0       1.00      0.96      0.98      4747\n",
      "           1       0.88      1.00      0.94      1421\n",
      "\n",
      "    accuracy                           0.97      6168\n",
      "   macro avg       0.94      0.98      0.96      6168\n",
      "weighted avg       0.97      0.97      0.97      6168\n",
      "\n"
     ]
    }
   ],
   "source": [
    "from scipy.special import expit\n",
    "\n",
    "clf = RidgeClassifierCV(class_weight='balanced')\n",
    "clf.fit(trl, y_train)\n",
    "y_pred = clf.predict(tel)\n",
    "\n",
    "print('Accuracy %s' % accuracy_score(y_test, y_pred))\n",
    "print('F1-score %s' % f1_score(y_test, y_pred, average=None))\n",
    "print(classification_report(y_test, y_pred))"
   ]
  },
  {
   "cell_type": "code",
   "execution_count": 463,
   "metadata": {},
   "outputs": [
    {
     "data": {
      "image/png": "[encoded data removed]",
      "text/plain": [
       "<Figure size 432x288 with 1 Axes>"
      ]
     },
     "metadata": {
      "needs_background": "light"
     },
     "output_type": "display_data"
    }
   ],
   "source": [
    "plt.scatter(trl, y_train)\n",
    "\n",
    "loss = expit(sorted(tel) * clf.coef_ + clf.intercept_).ravel()\n",
    "plt.plot(sorted(tel), loss, color='orange', linewidth=3)\n",
    "loss_l_ridge=loss\n",
    "\n",
    "plt.plot(sorted(tel), reg.coef_ * sorted(tel) + reg.intercept_, color='red', linewidth=3)\n",
    "\n",
    "\n",
    "plt.xlabel('Light', fontsize=16)\n",
    "plt.ylabel('Occupancy', fontsize=16)\n",
    "plt.tick_params(axis='both', which='major', labelsize=16)\n",
    "plt.show()"
   ]
  },
  {
   "cell_type": "markdown",
   "metadata": {},
   "source": [
    "## PassiveAggressiveClassifier"
   ]
  },
  {
   "cell_type": "code",
   "execution_count": 464,
   "metadata": {},
   "outputs": [
    {
     "name": "stdout",
     "output_type": "stream",
     "text": [
      "Accuracy 0.9881647211413749\n",
      "F1-score [0.99225793 0.9748882 ]\n",
      "              precision    recall  f1-score   support\n",
      "\n",
      "           0       1.00      0.99      0.99      4747\n",
      "           1       0.95      1.00      0.97      1421\n",
      "\n",
      "    accuracy                           0.99      6168\n",
      "   macro avg       0.98      0.99      0.98      6168\n",
      "weighted avg       0.99      0.99      0.99      6168\n",
      "\n"
     ]
    }
   ],
   "source": [
    "from sklearn.linear_model import PassiveAggressiveClassifier\n",
    "clf =PassiveAggressiveClassifier()\n",
    "clf.fit(X_train, y_train)\n",
    "y_pred = clf.predict(X_test)\n",
    "\n",
    "print('Accuracy %s' % accuracy_score(y_test, y_pred))\n",
    "print('F1-score %s' % f1_score(y_test, y_pred, average=None))\n",
    "print(classification_report(y_test, y_pred))"
   ]
  },
  {
   "cell_type": "code",
   "execution_count": 465,
   "metadata": {},
   "outputs": [
    {
     "name": "stdout",
     "output_type": "stream",
     "text": [
      "Accuracy 0.1828793774319066\n",
      "F1-score [0.30540243 0.00787402]\n",
      "              precision    recall  f1-score   support\n",
      "\n",
      "           0       0.44      0.23      0.31      4747\n",
      "           1       0.01      0.01      0.01      1421\n",
      "\n",
      "    accuracy                           0.18      6168\n",
      "   macro avg       0.22      0.12      0.16      6168\n",
      "weighted avg       0.34      0.18      0.24      6168\n",
      "\n"
     ]
    }
   ],
   "source": [
    "from scipy.special import expit\n",
    "\n",
    "clf = PassiveAggressiveClassifier(class_weight='balanced') # gives worst results\n",
    "clf.fit(X, y_train)\n",
    "y_pred = clf.predict(Xt)\n",
    "\n",
    "\n",
    "print('Accuracy %s' % accuracy_score(y_test, y_pred))\n",
    "print('F1-score %s' % f1_score(y_test, y_pred, average=None))\n",
    "print(classification_report(y_test, y_pred))"
   ]
  },
  {
   "cell_type": "code",
   "execution_count": 466,
   "metadata": {},
   "outputs": [
    {
     "data": {
      "image/png": "[encoded data removed]",
      "text/plain": [
       "<Figure size 432x288 with 1 Axes>"
      ]
     },
     "metadata": {
      "needs_background": "light"
     },
     "output_type": "display_data"
    }
   ],
   "source": [
    "plt.scatter(X, y_train)\n",
    "\n",
    "loss = expit(sorted(Xt) * clf.coef_ + clf.intercept_).ravel()\n",
    "plt.plot(sorted(Xt), loss, color='orange', linewidth=3)\n",
    "loss_pca_pa=loss\n",
    "\n",
    "plt.plot(sorted(Xt), reg.coef_ * sorted(Xt) + reg.intercept_, color='red', linewidth=3)\n",
    "\n",
    "\n",
    "plt.xlabel('Main component', fontsize=16)\n",
    "plt.ylabel('Occupancy', fontsize=16)\n",
    "plt.tick_params(axis='both', which='major', labelsize=16)\n",
    "plt.show()"
   ]
  },
  {
   "cell_type": "code",
   "execution_count": 467,
   "metadata": {},
   "outputs": [
    {
     "name": "stdout",
     "output_type": "stream",
     "text": [
      "Accuracy 0.9623865110246433\n",
      "F1-score [0.97496223 0.92442997]\n",
      "              precision    recall  f1-score   support\n",
      "\n",
      "           0       1.00      0.95      0.97      4747\n",
      "           1       0.86      1.00      0.92      1421\n",
      "\n",
      "    accuracy                           0.96      6168\n",
      "   macro avg       0.93      0.98      0.95      6168\n",
      "weighted avg       0.97      0.96      0.96      6168\n",
      "\n"
     ]
    }
   ],
   "source": [
    "from scipy.special import expit\n",
    "\n",
    "clf = PassiveAggressiveClassifier(class_weight='balanced')\n",
    "clf.fit(trl, y_train)\n",
    "y_pred = clf.predict(tel)\n",
    "\n",
    "print('Accuracy %s' % accuracy_score(y_test, y_pred))\n",
    "print('F1-score %s' % f1_score(y_test, y_pred, average=None))\n",
    "print(classification_report(y_test, y_pred))"
   ]
  },
  {
   "cell_type": "code",
   "execution_count": 469,
   "metadata": {},
   "outputs": [
    {
     "data": {
      "image/png": "[encoded data removed]",
      "text/plain": [
       "<Figure size 432x288 with 1 Axes>"
      ]
     },
     "metadata": {
      "needs_background": "light"
     },
     "output_type": "display_data"
    }
   ],
   "source": [
    "plt.scatter(trl, y_train)\n",
    "\n",
    "loss = expit(sorted(tel) * clf.coef_ + clf.intercept_).ravel()\n",
    "plt.plot(sorted(tel), loss, color='orange', linewidth=3)\n",
    "loss_l_pa=loss\n",
    "\n",
    "plt.plot(sorted(tel), reg.coef_ * sorted(tel) + reg.intercept_, color='red', linewidth=3)\n",
    "\n",
    "\n",
    "plt.xlabel('Main component', fontsize=16)\n",
    "plt.ylabel('Occupancy', fontsize=16)\n",
    "plt.tick_params(axis='both', which='major', labelsize=16)\n",
    "plt.show()"
   ]
  },
  {
   "cell_type": "markdown",
   "metadata": {},
   "source": [
    "## SGDClassifier"
   ]
  },
  {
   "cell_type": "code",
   "execution_count": 470,
   "metadata": {},
   "outputs": [
    {
     "name": "stdout",
     "output_type": "stream",
     "text": [
      "Accuracy 0.9826523994811932\n",
      "F1-score [0.98860854 0.96364254]\n",
      "              precision    recall  f1-score   support\n",
      "\n",
      "           0       1.00      0.98      0.99      4747\n",
      "           1       0.93      1.00      0.96      1421\n",
      "\n",
      "    accuracy                           0.98      6168\n",
      "   macro avg       0.97      0.99      0.98      6168\n",
      "weighted avg       0.98      0.98      0.98      6168\n",
      "\n"
     ]
    }
   ],
   "source": [
    "from sklearn.linear_model import SGDClassifier\n",
    "clf =SGDClassifier(class_weight='balanced')\n",
    "clf.fit(X_train, y_train)\n",
    "y_pred = clf.predict(X_test)\n",
    "\n",
    "print('Accuracy %s' % accuracy_score(y_test, y_pred))\n",
    "print('F1-score %s' % f1_score(y_test, y_pred, average=None))\n",
    "print(classification_report(y_test, y_pred))"
   ]
  },
  {
   "cell_type": "code",
   "execution_count": 471,
   "metadata": {},
   "outputs": [
    {
     "name": "stdout",
     "output_type": "stream",
     "text": [
      "Accuracy 0.875810635538262\n",
      "F1-score [0.91387452 0.77745497]\n",
      "              precision    recall  f1-score   support\n",
      "\n",
      "           0       0.98      0.86      0.91      4747\n",
      "           1       0.66      0.94      0.78      1421\n",
      "\n",
      "    accuracy                           0.88      6168\n",
      "   macro avg       0.82      0.90      0.85      6168\n",
      "weighted avg       0.91      0.88      0.88      6168\n",
      "\n"
     ]
    }
   ],
   "source": [
    "from scipy.special import expit\n",
    "\n",
    "clf = SGDClassifier(class_weight='balanced')\n",
    "clf.fit(X, y_train)\n",
    "y_pred = clf.predict(Xt)\n",
    "\n",
    "print('Accuracy %s' % accuracy_score(y_test, y_pred))\n",
    "print('F1-score %s' % f1_score(y_test, y_pred, average=None))\n",
    "print(classification_report(y_test, y_pred))"
   ]
  },
  {
   "cell_type": "code",
   "execution_count": 473,
   "metadata": {},
   "outputs": [
    {
     "data": {
      "image/png": "[encoded data removed]",
      "text/plain": [
       "<Figure size 432x288 with 1 Axes>"
      ]
     },
     "metadata": {
      "needs_background": "light"
     },
     "output_type": "display_data"
    }
   ],
   "source": [
    "plt.scatter(X, y_train)\n",
    "\n",
    "loss = expit(sorted(Xt) * clf.coef_ + clf.intercept_).ravel()\n",
    "plt.plot(sorted(Xt), loss, color='orange', linewidth=3)\n",
    "loss_pca_sgdc=loss\n",
    "\n",
    "plt.plot(sorted(Xt), reg.coef_ * sorted(Xt) + reg.intercept_, color='red', linewidth=3)\n",
    "\n",
    "\n",
    "plt.xlabel('Main component', fontsize=16)\n",
    "plt.ylabel('Occupancy', fontsize=16)\n",
    "plt.tick_params(axis='both', which='major', labelsize=16)\n",
    "plt.show()"
   ]
  },
  {
   "cell_type": "code",
   "execution_count": 474,
   "metadata": {},
   "outputs": [
    {
     "name": "stdout",
     "output_type": "stream",
     "text": [
      "Accuracy 0.9896238651102465\n",
      "F1-score [0.99322321 0.97786999]\n",
      "              precision    recall  f1-score   support\n",
      "\n",
      "           0       1.00      0.99      0.99      4747\n",
      "           1       0.96      1.00      0.98      1421\n",
      "\n",
      "    accuracy                           0.99      6168\n",
      "   macro avg       0.98      0.99      0.99      6168\n",
      "weighted avg       0.99      0.99      0.99      6168\n",
      "\n"
     ]
    }
   ],
   "source": [
    "from scipy.special import expit\n",
    "\n",
    "clf = SGDClassifier(class_weight='balanced')\n",
    "clf.fit(trl, y_train)\n",
    "y_pred = clf.predict(tel)\n",
    "\n",
    "print('Accuracy %s' % accuracy_score(y_test, y_pred))\n",
    "print('F1-score %s' % f1_score(y_test, y_pred, average=None))\n",
    "print(classification_report(y_test, y_pred))"
   ]
  },
  {
   "cell_type": "code",
   "execution_count": 475,
   "metadata": {},
   "outputs": [
    {
     "data": {
      "image/png": "[encoded data removed]",
      "text/plain": [
       "<Figure size 432x288 with 1 Axes>"
      ]
     },
     "metadata": {
      "needs_background": "light"
     },
     "output_type": "display_data"
    }
   ],
   "source": [
    "plt.scatter(trl, y_train)\n",
    "\n",
    "loss = expit(sorted(tel) * clf.coef_ + clf.intercept_).ravel()\n",
    "plt.plot(sorted(tel), loss, color='orange', linewidth=3)\n",
    "loss_l_sgdc=loss\n",
    "\n",
    "plt.plot(sorted(tel), reg.coef_ * sorted(tel) + reg.intercept_, color='red', linewidth=3)\n",
    "\n",
    "\n",
    "plt.xlabel('Main component', fontsize=16)\n",
    "plt.ylabel('Occupancy', fontsize=16)\n",
    "plt.tick_params(axis='both', which='major', labelsize=16)\n",
    "plt.show()"
   ]
  },
  {
   "cell_type": "markdown",
   "metadata": {},
   "source": [
    "# EVALUATION"
   ]
  },
  {
   "cell_type": "code",
   "execution_count": 478,
   "metadata": {},
   "outputs": [
    {
     "data": {
      "image/png": "[encoded data removed]",
      "text/plain": [
       "<Figure size 432x288 with 1 Axes>"
      ]
     },
     "metadata": {
      "needs_background": "light"
     },
     "output_type": "display_data"
    }
   ],
   "source": [
    "plt.scatter(trl, y_train)\n",
    "\n",
    "\n",
    "plt.plot(sorted(tel), loss_l_log, color='orange', linewidth=3)\n",
    "plt.plot(sorted(tel), loss_l_perceptron, color='grey', linewidth=3)\n",
    "plt.plot(sorted(tel), loss_l_sgdc, color='green', linewidth=3)\n",
    "plt.plot(sorted(tel), loss_l_pa, color='yellow', linewidth=3)\n",
    "\n",
    "\n",
    "plt.plot(sorted(tel), reg.coef_ * sorted(tel) + reg.intercept_, color='red', linewidth=3)\n",
    "\n",
    "\n",
    "plt.xlabel('Light', fontsize=16)\n",
    "plt.ylabel('Occupancy', fontsize=16)\n",
    "plt.tick_params(axis='both', which='major', labelsize=16)\n",
    "plt.show()"
   ]
  },
  {
   "cell_type": "code",
   "execution_count": 2,
   "metadata": {},
   "outputs": [
    {
     "ename": "NameError",
     "evalue": "name 'plt' is not defined",
     "output_type": "error",
     "traceback": [
      "\u001b[1;31m---------------------------------------------------------------------------\u001b[0m",
      "\u001b[1;31mNameError\u001b[0m                                 Traceback (most recent call last)",
      "\u001b[1;32m<ipython-input-2-edfd82de14d8>\u001b[0m in \u001b[0;36m<module>\u001b[1;34m\u001b[0m\n\u001b[1;32m----> 1\u001b[1;33m \u001b[0mplt\u001b[0m\u001b[1;33m.\u001b[0m\u001b[0mscatter\u001b[0m\u001b[1;33m(\u001b[0m\u001b[0mX\u001b[0m\u001b[1;33m,\u001b[0m \u001b[0my_train\u001b[0m\u001b[1;33m)\u001b[0m\u001b[1;33m\u001b[0m\u001b[1;33m\u001b[0m\u001b[0m\n\u001b[0m\u001b[0;32m      2\u001b[0m \u001b[1;33m\u001b[0m\u001b[0m\n\u001b[0;32m      3\u001b[0m \u001b[1;33m\u001b[0m\u001b[0m\n\u001b[0;32m      4\u001b[0m \u001b[0mplt\u001b[0m\u001b[1;33m.\u001b[0m\u001b[0mplot\u001b[0m\u001b[1;33m(\u001b[0m\u001b[0msorted\u001b[0m\u001b[1;33m(\u001b[0m\u001b[0mXt\u001b[0m\u001b[1;33m)\u001b[0m\u001b[1;33m,\u001b[0m \u001b[0mloss_pca_log\u001b[0m\u001b[1;33m,\u001b[0m \u001b[0mcolor\u001b[0m\u001b[1;33m=\u001b[0m\u001b[1;34m'orange'\u001b[0m\u001b[1;33m,\u001b[0m \u001b[0mlinewidth\u001b[0m\u001b[1;33m=\u001b[0m\u001b[1;36m3\u001b[0m\u001b[1;33m)\u001b[0m\u001b[1;33m\u001b[0m\u001b[1;33m\u001b[0m\u001b[0m\n\u001b[0;32m      5\u001b[0m \u001b[0mplt\u001b[0m\u001b[1;33m.\u001b[0m\u001b[0mplot\u001b[0m\u001b[1;33m(\u001b[0m\u001b[0msorted\u001b[0m\u001b[1;33m(\u001b[0m\u001b[0mXt\u001b[0m\u001b[1;33m)\u001b[0m\u001b[1;33m,\u001b[0m \u001b[0mloss_pca_perceptron\u001b[0m\u001b[1;33m,\u001b[0m \u001b[0mcolor\u001b[0m\u001b[1;33m=\u001b[0m\u001b[1;34m'grey'\u001b[0m\u001b[1;33m,\u001b[0m \u001b[0mlinewidth\u001b[0m\u001b[1;33m=\u001b[0m\u001b[1;36m3\u001b[0m\u001b[1;33m)\u001b[0m\u001b[1;33m\u001b[0m\u001b[1;33m\u001b[0m\u001b[0m\n",
      "\u001b[1;31mNameError\u001b[0m: name 'plt' is not defined"
     ]
    }
   ],
   "source": [
    "plt.scatter(X, y_train)\n",
    "\n",
    "\n",
    "plt.plot(sorted(Xt), loss_pca_log, color='orange', linewidth=3)\n",
    "plt.plot(sorted(Xt), loss_pca_perceptron, color='grey', linewidth=3)\n",
    "plt.plot(sorted(Xt), loss_pca_sgdc, color='green', linewidth=3)\n",
    "plt.plot(sorted(Xt), loss_pca_pa, color='yellow', linewidth=3)\n",
    "\n",
    "\n",
    "plt.plot(sorted(Xt), reg.coef_ * sorted(Xt) + reg.intercept_, color='red', linewidth=3)\n",
    "\n",
    "\n",
    "plt.xlabel('Light', fontsize=16)\n",
    "plt.ylabel('Occupancy', fontsize=16)\n",
    "plt.tick_params(axis='both', which='major', labelsize=16)\n",
    "plt.show()"
   ]
  },
  {
   "cell_type": "code",
   "execution_count": null,
   "metadata": {},
   "outputs": [],
   "source": []
  }
 ],
 "metadata": {
  "kernelspec": {
   "display_name": "Python 3",
   "language": "python",
   "name": "python3"
  },
  "language_info": {
   "codemirror_mode": {
    "name": "ipython",
    "version": 3
   },
   "file_extension": ".py",
   "mimetype": "text/x-python",
   "name": "python",
   "nbconvert_exporter": "python",
   "pygments_lexer": "ipython3",
   "version": "3.7.4"
  }
 },
 "nbformat": 4,
 "nbformat_minor": 2
}
