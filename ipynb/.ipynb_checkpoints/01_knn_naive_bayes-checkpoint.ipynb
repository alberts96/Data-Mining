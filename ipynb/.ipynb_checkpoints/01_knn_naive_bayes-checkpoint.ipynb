{
 "cells": [
  {
   "cell_type": "markdown",
   "metadata": {},
   "source": [
    "**Author:** [Riccardo Guidotti](http://kdd.isti.cnr.it/people/riccardo-guidotti)  \n",
    "**Python version:**  3.x"
   ]
  },
  {
   "cell_type": "code",
   "execution_count": 367,
   "metadata": {},
   "outputs": [],
   "source": [
    "%matplotlib inline\n",
    "\n",
    "import numpy as np\n",
    "import pandas as pd\n",
    "import matplotlib.pyplot as plt\n",
    "import sklearn\n",
    "from collections import defaultdict"
   ]
  },
  {
   "cell_type": "code",
   "execution_count": 368,
   "metadata": {},
   "outputs": [],
   "source": [
    "from sklearn.model_selection import train_test_split, cross_val_score \n",
    "\n",
    "from sklearn.metrics import accuracy_score, f1_score, classification_report\n",
    "from sklearn.metrics import roc_curve, auc, roc_auc_score"
   ]
  },
  {
   "cell_type": "markdown",
   "metadata": {},
   "source": [
    "### CARICO il training ed il test set\n",
    "....e provvedo ad effettuare modifiche: <ul>\n",
    "<li>  spezzo la data in tempo e data\n",
    "<li> rimozione umidity ratio\n",
    "    <li> rimuovo outliers in Light"
   ]
  },
  {
   "cell_type": "code",
   "execution_count": 408,
   "metadata": {},
   "outputs": [],
   "source": [
    "df=pd.read_csv(r'../data/datatraining.txt')\n"
   ]
  },
  {
   "cell_type": "code",
   "execution_count": 409,
   "metadata": {},
   "outputs": [],
   "source": [
    "df['date'] =  pd.to_datetime(df['date'], format='%Y-%m-%d %H:%M:%S')\n",
    "df['Time']= df['date'].apply(lambda x:x.time())\n",
    "df['Date']= df['date'].apply(lambda x:x.date())\n",
    "df['Time'] =  pd.to_timedelta(str(x) for x in df['Time'])\n",
    "df['Date'] =  pd.to_datetime(df['Date'], format='%Y-%m-%d')\n",
    "df.drop('date', axis=1, inplace=True)\n",
    "\n",
    "df.drop('HumidityRatio',inplace=True,axis=1)\n",
    "df=df[df['Light']<10000] "
   ]
  },
  {
   "cell_type": "code",
   "execution_count": null,
   "metadata": {},
   "outputs": [],
   "source": []
  },
  {
   "cell_type": "code",
   "execution_count": 410,
   "metadata": {},
   "outputs": [],
   "source": [
    "test=pd.read_csv(r'../data/datatest.txt')"
   ]
  },
  {
   "cell_type": "code",
   "execution_count": 411,
   "metadata": {},
   "outputs": [],
   "source": [
    "from sklearn.naive_bayes import GaussianNB, CategoricalNB"
   ]
  },
  {
   "cell_type": "code",
   "execution_count": 412,
   "metadata": {},
   "outputs": [],
   "source": [
    "test['date'] =  pd.to_datetime(test['date'], format='%Y-%m-%d %H:%M:%S')\n",
    "test['Time']= test['date'].apply(lambda x:x.time())\n",
    "test['Date']= test['date'].apply(lambda x:x.date())\n",
    "test['Time'] =  pd.to_timedelta(str(x) for x in test['Time'])\n",
    "test['Date'] =  pd.to_datetime(test['Date'], format='%Y-%m-%d')\n",
    "test.drop('date', axis=1, inplace=True)\n",
    "\n",
    "test.drop('HumidityRatio',inplace=True,axis=1)\n",
    "test=test[test['Light']<10000] "
   ]
  },
  {
   "cell_type": "code",
   "execution_count": null,
   "metadata": {},
   "outputs": [],
   "source": []
  },
  {
   "cell_type": "markdown",
   "metadata": {},
   "source": [
    "Affinche Time e Date possano passare per in naive bayes è opportuno che siano stringhe percio li converto, mantenendo del tempo solo l ora e della data solo il giorno"
   ]
  },
  {
   "cell_type": "code",
   "execution_count": null,
   "metadata": {},
   "outputs": [],
   "source": []
  },
  {
   "cell_type": "code",
   "execution_count": null,
   "metadata": {},
   "outputs": [],
   "source": []
  },
  {
   "cell_type": "markdown",
   "metadata": {},
   "source": [
    "## GAUSSIANO SENZA TEMPO\n",
    "\n",
    "Dato che il tempo non è ben calcolabile dalla gaussiana decido di non utilizzarlo "
   ]
  },
  {
   "cell_type": "code",
   "execution_count": 375,
   "metadata": {},
   "outputs": [
    {
     "data": {
      "text/plain": [
       "['Temperature', 'CO2', 'Light', 'Humidity']"
      ]
     },
     "execution_count": 375,
     "metadata": {},
     "output_type": "execute_result"
    }
   ],
   "source": [
    "attributes = ['Temperature','CO2','Light','Humidity'] \n",
    "\n",
    "\n",
    "\n",
    "    \n",
    "X_train =df[attributes].values\n",
    "y_train=df['Occupancy'].values\n",
    "X_test=test[attributes].values\n",
    "y_test=test['Occupancy'].values\n",
    "\n",
    "attributes"
   ]
  },
  {
   "cell_type": "code",
   "execution_count": 376,
   "metadata": {},
   "outputs": [
    {
     "name": "stdout",
     "output_type": "stream",
     "text": [
      "Accuracy 0.9774859287054409\n",
      "F1-score [0.98201439 0.96990973]\n",
      "              precision    recall  f1-score   support\n",
      "\n",
      "           0       1.00      0.97      0.98      1693\n",
      "           1       0.95      0.99      0.97       972\n",
      "\n",
      "    accuracy                           0.98      2665\n",
      "   macro avg       0.97      0.98      0.98      2665\n",
      "weighted avg       0.98      0.98      0.98      2665\n",
      "\n"
     ]
    }
   ],
   "source": [
    "clf = GaussianNB()\n",
    "clf.fit(X_train, y_train)\n",
    "y_pred = clf.predict(X_test)\n",
    "\n",
    "print('Accuracy %s' % accuracy_score(y_test, y_pred))\n",
    "print('F1-score %s' % f1_score(y_test, y_pred, average=None))\n",
    "print(classification_report(y_test, y_pred))"
   ]
  },
  {
   "cell_type": "code",
   "execution_count": 380,
   "metadata": {},
   "outputs": [],
   "source": [
    "test['y_pred']=y_pred"
   ]
  },
  {
   "cell_type": "code",
   "execution_count": 381,
   "metadata": {},
   "outputs": [],
   "source": [
    "for i in test.index:\n",
    "    if test.at[i,'Holidays']==1: test.at[i,'y_test']=0"
   ]
  },
  {
   "cell_type": "code",
   "execution_count": 382,
   "metadata": {},
   "outputs": [
    {
     "name": "stdout",
     "output_type": "stream",
     "text": [
      "Accuracy 0.9774859287054409\n",
      "F1-score [0.98201439 0.96990973]\n",
      "              precision    recall  f1-score   support\n",
      "\n",
      "           0       1.00      0.97      0.98      1693\n",
      "           1       0.95      0.99      0.97       972\n",
      "\n",
      "    accuracy                           0.98      2665\n",
      "   macro avg       0.97      0.98      0.98      2665\n",
      "weighted avg       0.98      0.98      0.98      2665\n",
      "\n"
     ]
    }
   ],
   "source": [
    "y_pred=test['y_pred']\n",
    "print('Accuracy %s' % accuracy_score(y_test, y_pred))\n",
    "print('F1-score %s' % f1_score(y_test, y_pred, average=None))\n",
    "print(classification_report(y_test, y_pred))"
   ]
  },
  {
   "cell_type": "code",
   "execution_count": 163,
   "metadata": {},
   "outputs": [
    {
     "data": {
      "text/plain": [
       "['Temperature', 'Humidity', 'Light', 'CO2']"
      ]
     },
     "execution_count": 163,
     "metadata": {},
     "output_type": "execute_result"
    }
   ],
   "source": [
    "attributes    #il report è uguale identico "
   ]
  },
  {
   "cell_type": "markdown",
   "metadata": {},
   "source": [
    "### NB categorica\n",
    "\n",
    "utilizzo solo data e ora per questa classificazione , condìsiderandoli gli unici due attributi categorici\n",
    "Codifico etrambi con il label encoder\n",
    "\n"
   ]
  },
  {
   "cell_type": "code",
   "execution_count": 383,
   "metadata": {},
   "outputs": [],
   "source": [
    "df['Hour']= df['Time'].apply(lambda x:str(x)[7:9])\n",
    "#df['Date']= df['Date'].apply(lambda x:str(x)[8:10])\n",
    "\n",
    "\n",
    "test['Hour']= test['Time'].apply(lambda x:str(x)[7:9])\n",
    "#test['Date']= test['Date'].apply(lambda x:str(x)[8:10])"
   ]
  },
  {
   "cell_type": "code",
   "execution_count": 393,
   "metadata": {},
   "outputs": [],
   "source": [
    "rdf=df[['Hour','Holidays']].copy()\n",
    "rtest=test[['Hour','Holidays']].copy()\n",
    "\n"
   ]
  },
  {
   "cell_type": "code",
   "execution_count": null,
   "metadata": {},
   "outputs": [],
   "source": []
  },
  {
   "cell_type": "code",
   "execution_count": 394,
   "metadata": {},
   "outputs": [],
   "source": [
    "X_train_cat=rdf.values\n",
    "X_test_cat=rtest.values\n",
    "y_train=df['Occupancy'].values\n",
    "y_test=test['Occupancy'].values"
   ]
  },
  {
   "cell_type": "code",
   "execution_count": 395,
   "metadata": {},
   "outputs": [
    {
     "data": {
      "text/plain": [
       "CategoricalNB(alpha=1.0, class_prior=None, fit_prior=True)"
      ]
     },
     "execution_count": 395,
     "metadata": {},
     "output_type": "execute_result"
    }
   ],
   "source": [
    "clf = CategoricalNB()\n",
    "clf.fit(X_train_cat, y_train)"
   ]
  },
  {
   "cell_type": "code",
   "execution_count": 396,
   "metadata": {},
   "outputs": [],
   "source": [
    "y_pred = clf.predict(X_test_cat)"
   ]
  },
  {
   "cell_type": "code",
   "execution_count": 388,
   "metadata": {},
   "outputs": [
    {
     "name": "stdout",
     "output_type": "stream",
     "text": [
      "Accuracy 0.900187617260788\n",
      "F1-score [0.92481628 0.8515625 ]\n",
      "              precision    recall  f1-score   support\n",
      "\n",
      "           0       0.89      0.97      0.92      1693\n",
      "           1       0.93      0.78      0.85       972\n",
      "\n",
      "    accuracy                           0.90      2665\n",
      "   macro avg       0.91      0.88      0.89      2665\n",
      "weighted avg       0.90      0.90      0.90      2665\n",
      "\n"
     ]
    }
   ],
   "source": [
    "\n",
    "print('Accuracy %s' % accuracy_score(y_test, y_pred))\n",
    "print('F1-score %s' % f1_score(y_test, y_pred, average=None))\n",
    "print(classification_report(y_test, y_pred))\n",
    "\n",
    "#A quanto pare data e tmepo da soli sono sufficienti per avere già una buona classificazione"
   ]
  },
  {
   "cell_type": "code",
   "execution_count": 397,
   "metadata": {},
   "outputs": [
    {
     "name": "stdout",
     "output_type": "stream",
     "text": [
      "2665 2665 2665 8143 8143\n"
     ]
    }
   ],
   "source": [
    "print(len(X_test_cat),len(y_test),len(y_pred),len(X_train_cat),len(y_train))"
   ]
  },
  {
   "cell_type": "markdown",
   "metadata": {},
   "source": [
    "## ONE HOT ENCODING"
   ]
  },
  {
   "cell_type": "code",
   "execution_count": 379,
   "metadata": {},
   "outputs": [],
   "source": [
    "df['Holidays'] = df['Date'].apply(lambda x: 0 if x.weekday()<5 else 1 )\n",
    "test['Holidays'] = test['Date'].apply(lambda x: 0 if x.weekday()<5 else 1 )"
   ]
  },
  {
   "cell_type": "code",
   "execution_count": 398,
   "metadata": {},
   "outputs": [],
   "source": [
    "from sklearn.preprocessing import OneHotEncoder"
   ]
  },
  {
   "cell_type": "code",
   "execution_count": 399,
   "metadata": {},
   "outputs": [
    {
     "data": {
      "text/html": [
       "<div>\n",
       "<style scoped>\n",
       "    .dataframe tbody tr th:only-of-type {\n",
       "        vertical-align: middle;\n",
       "    }\n",
       "\n",
       "    .dataframe tbody tr th {\n",
       "        vertical-align: top;\n",
       "    }\n",
       "\n",
       "    .dataframe thead th {\n",
       "        text-align: right;\n",
       "    }\n",
       "</style>\n",
       "<table border=\"1\" class=\"dataframe\">\n",
       "  <thead>\n",
       "    <tr style=\"text-align: right;\">\n",
       "      <th></th>\n",
       "      <th>Hour</th>\n",
       "      <th>Holidays</th>\n",
       "    </tr>\n",
       "  </thead>\n",
       "  <tbody>\n",
       "    <tr>\n",
       "      <td>140</td>\n",
       "      <td>14</td>\n",
       "      <td>0</td>\n",
       "    </tr>\n",
       "    <tr>\n",
       "      <td>141</td>\n",
       "      <td>14</td>\n",
       "      <td>0</td>\n",
       "    </tr>\n",
       "    <tr>\n",
       "      <td>142</td>\n",
       "      <td>14</td>\n",
       "      <td>0</td>\n",
       "    </tr>\n",
       "    <tr>\n",
       "      <td>143</td>\n",
       "      <td>14</td>\n",
       "      <td>0</td>\n",
       "    </tr>\n",
       "    <tr>\n",
       "      <td>144</td>\n",
       "      <td>14</td>\n",
       "      <td>0</td>\n",
       "    </tr>\n",
       "    <tr>\n",
       "      <td>...</td>\n",
       "      <td>...</td>\n",
       "      <td>...</td>\n",
       "    </tr>\n",
       "    <tr>\n",
       "      <td>2800</td>\n",
       "      <td>10</td>\n",
       "      <td>0</td>\n",
       "    </tr>\n",
       "    <tr>\n",
       "      <td>2801</td>\n",
       "      <td>10</td>\n",
       "      <td>0</td>\n",
       "    </tr>\n",
       "    <tr>\n",
       "      <td>2802</td>\n",
       "      <td>10</td>\n",
       "      <td>0</td>\n",
       "    </tr>\n",
       "    <tr>\n",
       "      <td>2803</td>\n",
       "      <td>10</td>\n",
       "      <td>0</td>\n",
       "    </tr>\n",
       "    <tr>\n",
       "      <td>2804</td>\n",
       "      <td>10</td>\n",
       "      <td>0</td>\n",
       "    </tr>\n",
       "  </tbody>\n",
       "</table>\n",
       "<p>2665 rows × 2 columns</p>\n",
       "</div>"
      ],
      "text/plain": [
       "     Hour  Holidays\n",
       "140    14         0\n",
       "141    14         0\n",
       "142    14         0\n",
       "143    14         0\n",
       "144    14         0\n",
       "...   ...       ...\n",
       "2800   10         0\n",
       "2801   10         0\n",
       "2802   10         0\n",
       "2803   10         0\n",
       "2804   10         0\n",
       "\n",
       "[2665 rows x 2 columns]"
      ]
     },
     "execution_count": 399,
     "metadata": {},
     "output_type": "execute_result"
    }
   ],
   "source": [
    "rdf=df[['Hour','Holidays']]\n",
    "rtest=test[['Hour','Holidays']]\n",
    "rtest"
   ]
  },
  {
   "cell_type": "code",
   "execution_count": 400,
   "metadata": {},
   "outputs": [],
   "source": [
    "rdf = pd.get_dummies( rdf, prefix = ['Hour'], columns = ['Hour'])\n"
   ]
  },
  {
   "cell_type": "code",
   "execution_count": 401,
   "metadata": {},
   "outputs": [],
   "source": [
    "rtest = pd.get_dummies( rtest, prefix = ['Hour'], columns = ['Hour'])\n"
   ]
  },
  {
   "cell_type": "code",
   "execution_count": 402,
   "metadata": {},
   "outputs": [],
   "source": [
    "for col in rdf.columns[1:]:\n",
    "    if col not in rtest.columns[1:]:\n",
    "        rtest[col]=0\n",
    "for col in rtest.columns[1:]:\n",
    "    if col not in rdf.columns[1:]:\n",
    "        rdf[col]=0"
   ]
  },
  {
   "cell_type": "code",
   "execution_count": 403,
   "metadata": {},
   "outputs": [],
   "source": [
    "X_train_cat=rdf.values\n",
    "X_test_cat=rtest.values\n",
    "y_train=df['Occupancy'].values\n",
    "y_test=test['Occupancy'].values"
   ]
  },
  {
   "cell_type": "code",
   "execution_count": 404,
   "metadata": {},
   "outputs": [],
   "source": [
    "clf = GaussianNB()\n",
    "clf.fit(X_train_cat, y_train)\n",
    "y_pred = clf.predict(X_test_cat)"
   ]
  },
  {
   "cell_type": "code",
   "execution_count": 405,
   "metadata": {},
   "outputs": [
    {
     "name": "stdout",
     "output_type": "stream",
     "text": [
      "Accuracy 0.9050656660412758\n",
      "F1-score [0.91924673 0.88484297]\n",
      "              precision    recall  f1-score   support\n",
      "\n",
      "           0       1.00      0.85      0.92      1693\n",
      "           1       0.79      1.00      0.88       972\n",
      "\n",
      "    accuracy                           0.91      2665\n",
      "   macro avg       0.90      0.93      0.90      2665\n",
      "weighted avg       0.92      0.91      0.91      2665\n",
      "\n"
     ]
    }
   ],
   "source": [
    "print('Accuracy %s' % accuracy_score(y_test, y_pred))\n",
    "print('F1-score %s' % f1_score(y_test, y_pred, average=None))\n",
    "print(classification_report(y_test, y_pred))"
   ]
  },
  {
   "cell_type": "code",
   "execution_count": 406,
   "metadata": {},
   "outputs": [],
   "source": [
    "clf = CategoricalNB()\n",
    "clf.fit(X_train_cat, y_train)\n",
    "y_pred = clf.predict(X_test_cat)"
   ]
  },
  {
   "cell_type": "code",
   "execution_count": 407,
   "metadata": {},
   "outputs": [
    {
     "name": "stdout",
     "output_type": "stream",
     "text": [
      "Accuracy 0.9512195121951219\n",
      "F1-score [0.96216531 0.9313622 ]\n",
      "              precision    recall  f1-score   support\n",
      "\n",
      "           0       0.95      0.98      0.96      1693\n",
      "           1       0.96      0.91      0.93       972\n",
      "\n",
      "    accuracy                           0.95      2665\n",
      "   macro avg       0.95      0.94      0.95      2665\n",
      "weighted avg       0.95      0.95      0.95      2665\n",
      "\n"
     ]
    }
   ],
   "source": [
    "print('Accuracy %s' % accuracy_score(y_test, y_pred))\n",
    "print('F1-score %s' % f1_score(y_test, y_pred, average=None))\n",
    "print(classification_report(y_test, y_pred))"
   ]
  },
  {
   "cell_type": "markdown",
   "metadata": {},
   "source": [
    "### trasformo il tempo e riprovo "
   ]
  },
  {
   "cell_type": "markdown",
   "metadata": {},
   "source": [
    "utilizzo il giorno com e holidays= 1 o se è festivo\n",
    "utilizzo l' orario come notte = 1 giorno 0\n",
    "\n",
    "discretizzo gli attributi continui usando la regola di sturges e applico il nb categorico"
   ]
  },
  {
   "cell_type": "code",
   "execution_count": 220,
   "metadata": {},
   "outputs": [],
   "source": []
  },
  {
   "cell_type": "code",
   "execution_count": 259,
   "metadata": {},
   "outputs": [
    {
     "data": {
      "text/plain": [
       "140     0\n",
       "141     0\n",
       "142     0\n",
       "143     0\n",
       "144     0\n",
       "       ..\n",
       "2800    0\n",
       "2801    0\n",
       "2802    0\n",
       "2803    0\n",
       "2804    0\n",
       "Name: Holidays, Length: 2665, dtype: int64"
      ]
     },
     "execution_count": 259,
     "metadata": {},
     "output_type": "execute_result"
    }
   ],
   "source": [
    "test['Holidays']"
   ]
  },
  {
   "cell_type": "code",
   "execution_count": 184,
   "metadata": {},
   "outputs": [
    {
     "data": {
      "text/plain": [
       "3250   2015-02-07\n",
       "3251   2015-02-07\n",
       "3252   2015-02-07\n",
       "3253   2015-02-07\n",
       "3254   2015-02-07\n",
       "          ...    \n",
       "6125   2015-02-08\n",
       "6126   2015-02-08\n",
       "6127   2015-02-08\n",
       "6128   2015-02-08\n",
       "6129   2015-02-08\n",
       "Name: Date, Length: 2880, dtype: datetime64[ns]"
      ]
     },
     "execution_count": 184,
     "metadata": {},
     "output_type": "execute_result"
    }
   ],
   "source": []
  },
  {
   "cell_type": "markdown",
   "metadata": {},
   "source": [
    "## DISCRETIZZO TUTTO E APPLICO CATEGORICAL\n"
   ]
  },
  {
   "cell_type": "markdown",
   "metadata": {},
   "source": [
    "utilizzo holiday 1 0 \n",
    "\n",
    "\n",
    "\n",
    "i quattro attributi li discretizzo e applico il categorico "
   ]
  },
  {
   "cell_type": "code",
   "execution_count": 316,
   "metadata": {},
   "outputs": [
    {
     "name": "stdout",
     "output_type": "stream",
     "text": [
      "13.99134468698652\n",
      "Index(['Temperature', 'Humidity', 'Light', 'CO2', 'Occupancy', 'Time', 'Date',\n",
      "       'Dayweek', 'Holidays', 'Hour', 'TemperatureBin', 'HumidityBin',\n",
      "       'LightBin', 'CO2Bin', 'HourBin', 'HolidaysBin'],\n",
      "      dtype='object')\n"
     ]
    }
   ],
   "source": [
    "import math\n",
    "#Strugers rule : (log in base 2 di n)+1\n",
    "print ((math.log(len(df),2))+1)\n",
    "\n",
    "print(df.columns)"
   ]
  },
  {
   "cell_type": "markdown",
   "metadata": {},
   "source": [
    "Discretizzo con la stesso numero di bins\n"
   ]
  },
  {
   "cell_type": "code",
   "execution_count": 331,
   "metadata": {},
   "outputs": [],
   "source": [
    "df['TemperatureBin'] = pd.cut(df['Temperature'].astype(int), 14 )\n",
    "df['HumidityBin'] = pd.cut(df['Humidity'].astype(int), 14)\n",
    "df['LightBin'] = pd.cut(df['Light'].astype(int), 14)\n",
    "df['CO2Bin'] = pd.cut(df['CO2'].astype(int), 14)"
   ]
  },
  {
   "cell_type": "code",
   "execution_count": 332,
   "metadata": {},
   "outputs": [],
   "source": [
    "test['TemperatureBin'] = pd.cut(test['Temperature'].astype(int), 14 )\n",
    "test['HumidityBin'] = pd.cut(test['Humidity'].astype(int), 14)\n",
    "test['LightBin'] = pd.cut(test['Light'].astype(int), 14)\n",
    "test['CO2Bin'] = pd.cut(test['CO2'].astype(int), 14)"
   ]
  },
  {
   "cell_type": "markdown",
   "metadata": {},
   "source": [
    "faccio label encoders"
   ]
  },
  {
   "cell_type": "code",
   "execution_count": 333,
   "metadata": {},
   "outputs": [],
   "source": [
    "from sklearn import preprocessing\n",
    "\n",
    "df['TemperatureBin'] = preprocessing.LabelEncoder().fit_transform(df['TemperatureBin'])\n",
    "df['HumidityBin'] = preprocessing.LabelEncoder().fit_transform(df['HumidityBin'])\n",
    "df['LightBin'] = preprocessing.LabelEncoder().fit_transform(df['LightBin'])\n",
    "df['CO2Bin'] = preprocessing.LabelEncoder().fit_transform(df['TemperatureBin'])\n"
   ]
  },
  {
   "cell_type": "code",
   "execution_count": 334,
   "metadata": {},
   "outputs": [],
   "source": [
    "test['TemperatureBin'] = preprocessing.LabelEncoder().fit_transform(test['TemperatureBin'])\n",
    "test['HumidityBin'] = preprocessing.LabelEncoder().fit_transform(test['HumidityBin'])\n",
    "test['LightBin'] = preprocessing.LabelEncoder().fit_transform(test['LightBin'])\n",
    "test['CO2Bin'] = preprocessing.LabelEncoder().fit_transform(test['TemperatureBin'])"
   ]
  },
  {
   "cell_type": "code",
   "execution_count": 309,
   "metadata": {},
   "outputs": [],
   "source": [
    "df['TemperatureBin']= 'Temperature='+df['TemperatureBin'].astype(str)\n",
    "df['HumidityBin']= 'Humidity='+df['HumidityBin'].astype(str)\n",
    "df['LightBin']= 'Light='+df['LightBin'].astype(str)\n",
    "df['CO2Bin']= 'CO2e='+df['CO2Bin'].astype(str)\n"
   ]
  },
  {
   "cell_type": "code",
   "execution_count": 310,
   "metadata": {},
   "outputs": [],
   "source": [
    "df['HourBin']='H='+df['Hour'].astype(str)\n",
    "df['HolidaysBin']='Holy='+df['Holidays'].astype(str)"
   ]
  },
  {
   "cell_type": "code",
   "execution_count": 311,
   "metadata": {},
   "outputs": [],
   "source": [
    "test['TemperatureBin']= 'Temperature='+test['TemperatureBin'].astype(str)\n",
    "test['HumidityBin']= 'Humidity='+test['HumidityBin'].astype(str)\n",
    "test['LightBin']= 'Light='+test['LightBin'].astype(str)\n",
    "test['CO2Bin']= 'CO2e='+test['CO2Bin'].astype(str)"
   ]
  },
  {
   "cell_type": "code",
   "execution_count": 312,
   "metadata": {},
   "outputs": [],
   "source": [
    "test['HourBin']='H='+test['Hour'].astype(str)\n",
    "test['HolidaysBin']='Holy='+test['Holidays'].astype(str)"
   ]
  },
  {
   "cell_type": "markdown",
   "metadata": {},
   "source": [
    "creo il train ed il test set"
   ]
  },
  {
   "cell_type": "code",
   "execution_count": 335,
   "metadata": {},
   "outputs": [
    {
     "data": {
      "text/plain": [
       "['TemperatureBin', 'HumidityBin', 'LightBin', 'CO2Bin', 'Holidays']"
      ]
     },
     "execution_count": 335,
     "metadata": {},
     "output_type": "execute_result"
    }
   ],
   "source": [
    "\n",
    "attributes = [col for col in df.columns if col.find('Bin')>-1]\n",
    "attributes.append('Holidays')\n",
    "    \n",
    "X_train =df[attributes].values\n",
    "y_train=df['Occupancy'].values\n",
    "X_test=test[attributes].values\n",
    "y_test=test['Occupancy'].values\n",
    "\n",
    "attributes"
   ]
  },
  {
   "cell_type": "code",
   "execution_count": 338,
   "metadata": {},
   "outputs": [
    {
     "name": "stdout",
     "output_type": "stream",
     "text": [
      "(8143, 5) (2665, 5)\n"
     ]
    }
   ],
   "source": [
    "print(X_train.shape,X_test.shape)"
   ]
  },
  {
   "cell_type": "code",
   "execution_count": 340,
   "metadata": {},
   "outputs": [
    {
     "name": "stdout",
     "output_type": "stream",
     "text": [
      "Accuracy 0.9703564727954972\n",
      "F1-score [0.97614014 0.96087172]\n",
      "              precision    recall  f1-score   support\n",
      "\n",
      "           0       1.00      0.95      0.98      1693\n",
      "           1       0.93      1.00      0.96       972\n",
      "\n",
      "    accuracy                           0.97      2665\n",
      "   macro avg       0.96      0.98      0.97      2665\n",
      "weighted avg       0.97      0.97      0.97      2665\n",
      "\n"
     ]
    }
   ],
   "source": [
    "clf = GaussianNB()\n",
    "clf.fit(X_train, y_train)\n",
    "y_pred = clf.predict(X_test)\n",
    "\n",
    "print('Accuracy %s' % accuracy_score(y_test, y_pred))\n",
    "print('F1-score %s' % f1_score(y_test, y_pred, average=None))\n",
    "print(classification_report(y_test, y_pred))"
   ]
  },
  {
   "cell_type": "code",
   "execution_count": null,
   "metadata": {},
   "outputs": [],
   "source": []
  },
  {
   "cell_type": "code",
   "execution_count": null,
   "metadata": {},
   "outputs": [],
   "source": []
  },
  {
   "cell_type": "code",
   "execution_count": null,
   "metadata": {},
   "outputs": [],
   "source": []
  }
 ],
 "metadata": {
  "kernelspec": {
   "display_name": "Python 3",
   "language": "python",
   "name": "python3"
  },
  "language_info": {
   "codemirror_mode": {
    "name": "ipython",
    "version": 3
   },
   "file_extension": ".py",
   "mimetype": "text/x-python",
   "name": "python",
   "nbconvert_exporter": "python",
   "pygments_lexer": "ipython3",
   "version": "3.7.4"
  }
 },
 "nbformat": 4,
 "nbformat_minor": 2
}
